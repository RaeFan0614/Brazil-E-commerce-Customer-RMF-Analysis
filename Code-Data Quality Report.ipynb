{
 "cells": [
  {
   "cell_type": "code",
   "execution_count": 1,
   "id": "f23c7856",
   "metadata": {},
   "outputs": [],
   "source": [
    "import pandas as pd\n",
    "import numpy as np\n",
    "import matplotlib.pyplot as plt\n",
    "from matplotlib.pyplot import figure\n",
    "import seaborn as sns\n",
    "import matplotlib\n",
    "%matplotlib inline"
   ]
  },
  {
   "cell_type": "code",
   "execution_count": 2,
   "id": "9f8d3adb",
   "metadata": {},
   "outputs": [
    {
     "data": {
      "text/plain": [
       "order_id                         object\n",
       "customer_id                      object\n",
       "order_status                     object\n",
       "order_purchase_timestamp         object\n",
       "order_approved_at                object\n",
       "order_delivered_carrier_date     object\n",
       "order_delivered_customer_date    object\n",
       "order_estimated_delivery_date    object\n",
       "dtype: object"
      ]
     },
     "execution_count": 2,
     "metadata": {},
     "output_type": "execute_result"
    }
   ],
   "source": [
    "order=pd.read_csv('/Users/rae/Desktop/datasets 2/Brazil/olist_orders_dataset.csv')\n",
    "order.dtypes"
   ]
  },
  {
   "cell_type": "code",
   "execution_count": 3,
   "id": "66d936ba",
   "metadata": {
    "scrolled": true
   },
   "outputs": [
    {
     "data": {
      "text/html": [
       "<div>\n",
       "<style scoped>\n",
       "    .dataframe tbody tr th:only-of-type {\n",
       "        vertical-align: middle;\n",
       "    }\n",
       "\n",
       "    .dataframe tbody tr th {\n",
       "        vertical-align: top;\n",
       "    }\n",
       "\n",
       "    .dataframe thead th {\n",
       "        text-align: right;\n",
       "    }\n",
       "</style>\n",
       "<table border=\"1\" class=\"dataframe\">\n",
       "  <thead>\n",
       "    <tr style=\"text-align: right;\">\n",
       "      <th></th>\n",
       "      <th>0</th>\n",
       "      <th>1</th>\n",
       "      <th>2</th>\n",
       "      <th>3</th>\n",
       "      <th>4</th>\n",
       "    </tr>\n",
       "  </thead>\n",
       "  <tbody>\n",
       "    <tr>\n",
       "      <th>order_id</th>\n",
       "      <td>e481f51cbdc54678b7cc49136f2d6af7</td>\n",
       "      <td>53cdb2fc8bc7dce0b6741e2150273451</td>\n",
       "      <td>47770eb9100c2d0c44946d9cf07ec65d</td>\n",
       "      <td>949d5b44dbf5de918fe9c16f97b45f8a</td>\n",
       "      <td>ad21c59c0840e6cb83a9ceb5573f8159</td>\n",
       "    </tr>\n",
       "    <tr>\n",
       "      <th>customer_id</th>\n",
       "      <td>9ef432eb6251297304e76186b10a928d</td>\n",
       "      <td>b0830fb4747a6c6d20dea0b8c802d7ef</td>\n",
       "      <td>41ce2a54c0b03bf3443c3d931a367089</td>\n",
       "      <td>f88197465ea7920adcdbec7375364d82</td>\n",
       "      <td>8ab97904e6daea8866dbdbc4fb7aad2c</td>\n",
       "    </tr>\n",
       "    <tr>\n",
       "      <th>order_status</th>\n",
       "      <td>delivered</td>\n",
       "      <td>delivered</td>\n",
       "      <td>delivered</td>\n",
       "      <td>delivered</td>\n",
       "      <td>delivered</td>\n",
       "    </tr>\n",
       "    <tr>\n",
       "      <th>order_purchase_timestamp</th>\n",
       "      <td>2017-10-02 10:56:33</td>\n",
       "      <td>2018-07-24 20:41:37</td>\n",
       "      <td>2018-08-08 08:38:49</td>\n",
       "      <td>2017-11-18 19:28:06</td>\n",
       "      <td>2018-02-13 21:18:39</td>\n",
       "    </tr>\n",
       "    <tr>\n",
       "      <th>order_approved_at</th>\n",
       "      <td>2017-10-02 11:07:15</td>\n",
       "      <td>2018-07-26 03:24:27</td>\n",
       "      <td>2018-08-08 08:55:23</td>\n",
       "      <td>2017-11-18 19:45:59</td>\n",
       "      <td>2018-02-13 22:20:29</td>\n",
       "    </tr>\n",
       "    <tr>\n",
       "      <th>order_delivered_carrier_date</th>\n",
       "      <td>2017-10-04 19:55:00</td>\n",
       "      <td>2018-07-26 14:31:00</td>\n",
       "      <td>2018-08-08 13:50:00</td>\n",
       "      <td>2017-11-22 13:39:59</td>\n",
       "      <td>2018-02-14 19:46:34</td>\n",
       "    </tr>\n",
       "    <tr>\n",
       "      <th>order_delivered_customer_date</th>\n",
       "      <td>2017-10-10 21:25:13</td>\n",
       "      <td>2018-08-07 15:27:45</td>\n",
       "      <td>2018-08-17 18:06:29</td>\n",
       "      <td>2017-12-02 00:28:42</td>\n",
       "      <td>2018-02-16 18:17:02</td>\n",
       "    </tr>\n",
       "    <tr>\n",
       "      <th>order_estimated_delivery_date</th>\n",
       "      <td>2017-10-18 00:00:00</td>\n",
       "      <td>2018-08-13 00:00:00</td>\n",
       "      <td>2018-09-04 00:00:00</td>\n",
       "      <td>2017-12-15 00:00:00</td>\n",
       "      <td>2018-02-26 00:00:00</td>\n",
       "    </tr>\n",
       "  </tbody>\n",
       "</table>\n",
       "</div>"
      ],
      "text/plain": [
       "                                                              0  \\\n",
       "order_id                       e481f51cbdc54678b7cc49136f2d6af7   \n",
       "customer_id                    9ef432eb6251297304e76186b10a928d   \n",
       "order_status                                          delivered   \n",
       "order_purchase_timestamp                    2017-10-02 10:56:33   \n",
       "order_approved_at                           2017-10-02 11:07:15   \n",
       "order_delivered_carrier_date                2017-10-04 19:55:00   \n",
       "order_delivered_customer_date               2017-10-10 21:25:13   \n",
       "order_estimated_delivery_date               2017-10-18 00:00:00   \n",
       "\n",
       "                                                              1  \\\n",
       "order_id                       53cdb2fc8bc7dce0b6741e2150273451   \n",
       "customer_id                    b0830fb4747a6c6d20dea0b8c802d7ef   \n",
       "order_status                                          delivered   \n",
       "order_purchase_timestamp                    2018-07-24 20:41:37   \n",
       "order_approved_at                           2018-07-26 03:24:27   \n",
       "order_delivered_carrier_date                2018-07-26 14:31:00   \n",
       "order_delivered_customer_date               2018-08-07 15:27:45   \n",
       "order_estimated_delivery_date               2018-08-13 00:00:00   \n",
       "\n",
       "                                                              2  \\\n",
       "order_id                       47770eb9100c2d0c44946d9cf07ec65d   \n",
       "customer_id                    41ce2a54c0b03bf3443c3d931a367089   \n",
       "order_status                                          delivered   \n",
       "order_purchase_timestamp                    2018-08-08 08:38:49   \n",
       "order_approved_at                           2018-08-08 08:55:23   \n",
       "order_delivered_carrier_date                2018-08-08 13:50:00   \n",
       "order_delivered_customer_date               2018-08-17 18:06:29   \n",
       "order_estimated_delivery_date               2018-09-04 00:00:00   \n",
       "\n",
       "                                                              3  \\\n",
       "order_id                       949d5b44dbf5de918fe9c16f97b45f8a   \n",
       "customer_id                    f88197465ea7920adcdbec7375364d82   \n",
       "order_status                                          delivered   \n",
       "order_purchase_timestamp                    2017-11-18 19:28:06   \n",
       "order_approved_at                           2017-11-18 19:45:59   \n",
       "order_delivered_carrier_date                2017-11-22 13:39:59   \n",
       "order_delivered_customer_date               2017-12-02 00:28:42   \n",
       "order_estimated_delivery_date               2017-12-15 00:00:00   \n",
       "\n",
       "                                                              4  \n",
       "order_id                       ad21c59c0840e6cb83a9ceb5573f8159  \n",
       "customer_id                    8ab97904e6daea8866dbdbc4fb7aad2c  \n",
       "order_status                                          delivered  \n",
       "order_purchase_timestamp                    2018-02-13 21:18:39  \n",
       "order_approved_at                           2018-02-13 22:20:29  \n",
       "order_delivered_carrier_date                2018-02-14 19:46:34  \n",
       "order_delivered_customer_date               2018-02-16 18:17:02  \n",
       "order_estimated_delivery_date               2018-02-26 00:00:00  "
      ]
     },
     "execution_count": 3,
     "metadata": {},
     "output_type": "execute_result"
    }
   ],
   "source": [
    "order.head().T"
   ]
  },
  {
   "cell_type": "code",
   "execution_count": 4,
   "id": "d1102deb",
   "metadata": {},
   "outputs": [
    {
     "data": {
      "text/plain": [
       "Index(['delivered', 'shipped', 'canceled', 'unavailable', 'invoiced',\n",
       "       'processing', 'created', 'approved'],\n",
       "      dtype='object')"
      ]
     },
     "execution_count": 4,
     "metadata": {},
     "output_type": "execute_result"
    }
   ],
   "source": [
    "order['order_status'].value_counts().index"
   ]
  },
  {
   "cell_type": "code",
   "execution_count": 5,
   "id": "b3162c65",
   "metadata": {},
   "outputs": [
    {
     "data": {
      "text/plain": [
       "<seaborn.axisgrid.FacetGrid at 0x7fe6f15d4ee0>"
      ]
     },
     "execution_count": 5,
     "metadata": {},
     "output_type": "execute_result"
    },
    {
     "data": {
      "image/png": "[encoded data removed]",
      "text/plain": [
       "<Figure size 360x360 with 1 Axes>"
      ]
     },
     "metadata": {
      "needs_background": "light"
     },
     "output_type": "display_data"
    }
   ],
   "source": [
    "o=sns.catplot(data=order,x='order_status',kind='count')\n",
    "o.set(yscale='log')\n",
    "o.set_xticklabels(rotation=30)"
   ]
  },
  {
   "cell_type": "code",
   "execution_count": 6,
   "id": "4a31c07d",
   "metadata": {},
   "outputs": [],
   "source": [
    "order_copy=order[['order_status']].copy()"
   ]
  },
  {
   "cell_type": "code",
   "execution_count": 7,
   "id": "9d0cc272",
   "metadata": {},
   "outputs": [],
   "source": [
    "order_copy['order_status']=order_copy['order_status'].apply(lambda x: x if x=='delivered' else 'other')"
   ]
  },
  {
   "cell_type": "code",
   "execution_count": 8,
   "id": "2bfd9ff7",
   "metadata": {},
   "outputs": [
    {
     "data": {
      "text/plain": [
       "delivered    96478\n",
       "other         2963\n",
       "Name: order_status, dtype: int64"
      ]
     },
     "execution_count": 8,
     "metadata": {},
     "output_type": "execute_result"
    }
   ],
   "source": [
    "order_copy['order_status'].value_counts()"
   ]
  },
  {
   "cell_type": "code",
   "execution_count": 9,
   "id": "33d6a81d",
   "metadata": {},
   "outputs": [
    {
     "data": {
      "text/plain": [
       "<AxesSubplot:ylabel='order_status'>"
      ]
     },
     "execution_count": 9,
     "metadata": {},
     "output_type": "execute_result"
    },
    {
     "data": {
      "image/png": "[encoded data removed]",
      "text/plain": [
       "<Figure size 504x504 with 1 Axes>"
      ]
     },
     "metadata": {},
     "output_type": "display_data"
    }
   ],
   "source": [
    "order_copy['order_status'].value_counts().plot(kind='pie',figsize=(7,7),autopct='%1.1f%%',startangle=90)"
   ]
  },
  {
   "cell_type": "code",
   "execution_count": 10,
   "id": "c68d5c16",
   "metadata": {},
   "outputs": [
    {
     "data": {
      "text/plain": [
       "order_id                object\n",
       "order_item_id            int64\n",
       "product_id              object\n",
       "seller_id               object\n",
       "shipping_limit_date     object\n",
       "price                  float64\n",
       "freight_value          float64\n",
       "dtype: object"
      ]
     },
     "execution_count": 10,
     "metadata": {},
     "output_type": "execute_result"
    }
   ],
   "source": [
    "item=pd.read_csv('/Users/rae/Desktop/datasets 2/Brazil/olist_order_items_dataset.csv')\n",
    "item.dtypes"
   ]
  },
  {
   "cell_type": "code",
   "execution_count": 11,
   "id": "e7af31f8",
   "metadata": {},
   "outputs": [
    {
     "data": {
      "text/html": [
       "<div>\n",
       "<style scoped>\n",
       "    .dataframe tbody tr th:only-of-type {\n",
       "        vertical-align: middle;\n",
       "    }\n",
       "\n",
       "    .dataframe tbody tr th {\n",
       "        vertical-align: top;\n",
       "    }\n",
       "\n",
       "    .dataframe thead th {\n",
       "        text-align: right;\n",
       "    }\n",
       "</style>\n",
       "<table border=\"1\" class=\"dataframe\">\n",
       "  <thead>\n",
       "    <tr style=\"text-align: right;\">\n",
       "      <th></th>\n",
       "      <th>0</th>\n",
       "      <th>1</th>\n",
       "      <th>2</th>\n",
       "      <th>3</th>\n",
       "      <th>4</th>\n",
       "    </tr>\n",
       "  </thead>\n",
       "  <tbody>\n",
       "    <tr>\n",
       "      <th>order_id</th>\n",
       "      <td>00010242fe8c5a6d1ba2dd792cb16214</td>\n",
       "      <td>00018f77f2f0320c557190d7a144bdd3</td>\n",
       "      <td>000229ec398224ef6ca0657da4fc703e</td>\n",
       "      <td>00024acbcdf0a6daa1e931b038114c75</td>\n",
       "      <td>00042b26cf59d7ce69dfabb4e55b4fd9</td>\n",
       "    </tr>\n",
       "    <tr>\n",
       "      <th>order_item_id</th>\n",
       "      <td>1</td>\n",
       "      <td>1</td>\n",
       "      <td>1</td>\n",
       "      <td>1</td>\n",
       "      <td>1</td>\n",
       "    </tr>\n",
       "    <tr>\n",
       "      <th>product_id</th>\n",
       "      <td>4244733e06e7ecb4970a6e2683c13e61</td>\n",
       "      <td>e5f2d52b802189ee658865ca93d83a8f</td>\n",
       "      <td>c777355d18b72b67abbeef9df44fd0fd</td>\n",
       "      <td>7634da152a4610f1595efa32f14722fc</td>\n",
       "      <td>ac6c3623068f30de03045865e4e10089</td>\n",
       "    </tr>\n",
       "    <tr>\n",
       "      <th>seller_id</th>\n",
       "      <td>48436dade18ac8b2bce089ec2a041202</td>\n",
       "      <td>dd7ddc04e1b6c2c614352b383efe2d36</td>\n",
       "      <td>5b51032eddd242adc84c38acab88f23d</td>\n",
       "      <td>9d7a1d34a5052409006425275ba1c2b4</td>\n",
       "      <td>df560393f3a51e74553ab94004ba5c87</td>\n",
       "    </tr>\n",
       "    <tr>\n",
       "      <th>shipping_limit_date</th>\n",
       "      <td>2017-09-19 09:45:35</td>\n",
       "      <td>2017-05-03 11:05:13</td>\n",
       "      <td>2018-01-18 14:48:30</td>\n",
       "      <td>2018-08-15 10:10:18</td>\n",
       "      <td>2017-02-13 13:57:51</td>\n",
       "    </tr>\n",
       "    <tr>\n",
       "      <th>price</th>\n",
       "      <td>58.9</td>\n",
       "      <td>239.9</td>\n",
       "      <td>199.0</td>\n",
       "      <td>12.99</td>\n",
       "      <td>199.9</td>\n",
       "    </tr>\n",
       "    <tr>\n",
       "      <th>freight_value</th>\n",
       "      <td>13.29</td>\n",
       "      <td>19.93</td>\n",
       "      <td>17.87</td>\n",
       "      <td>12.79</td>\n",
       "      <td>18.14</td>\n",
       "    </tr>\n",
       "  </tbody>\n",
       "</table>\n",
       "</div>"
      ],
      "text/plain": [
       "                                                    0  \\\n",
       "order_id             00010242fe8c5a6d1ba2dd792cb16214   \n",
       "order_item_id                                       1   \n",
       "product_id           4244733e06e7ecb4970a6e2683c13e61   \n",
       "seller_id            48436dade18ac8b2bce089ec2a041202   \n",
       "shipping_limit_date               2017-09-19 09:45:35   \n",
       "price                                            58.9   \n",
       "freight_value                                   13.29   \n",
       "\n",
       "                                                    1  \\\n",
       "order_id             00018f77f2f0320c557190d7a144bdd3   \n",
       "order_item_id                                       1   \n",
       "product_id           e5f2d52b802189ee658865ca93d83a8f   \n",
       "seller_id            dd7ddc04e1b6c2c614352b383efe2d36   \n",
       "shipping_limit_date               2017-05-03 11:05:13   \n",
       "price                                           239.9   \n",
       "freight_value                                   19.93   \n",
       "\n",
       "                                                    2  \\\n",
       "order_id             000229ec398224ef6ca0657da4fc703e   \n",
       "order_item_id                                       1   \n",
       "product_id           c777355d18b72b67abbeef9df44fd0fd   \n",
       "seller_id            5b51032eddd242adc84c38acab88f23d   \n",
       "shipping_limit_date               2018-01-18 14:48:30   \n",
       "price                                           199.0   \n",
       "freight_value                                   17.87   \n",
       "\n",
       "                                                    3  \\\n",
       "order_id             00024acbcdf0a6daa1e931b038114c75   \n",
       "order_item_id                                       1   \n",
       "product_id           7634da152a4610f1595efa32f14722fc   \n",
       "seller_id            9d7a1d34a5052409006425275ba1c2b4   \n",
       "shipping_limit_date               2018-08-15 10:10:18   \n",
       "price                                           12.99   \n",
       "freight_value                                   12.79   \n",
       "\n",
       "                                                    4  \n",
       "order_id             00042b26cf59d7ce69dfabb4e55b4fd9  \n",
       "order_item_id                                       1  \n",
       "product_id           ac6c3623068f30de03045865e4e10089  \n",
       "seller_id            df560393f3a51e74553ab94004ba5c87  \n",
       "shipping_limit_date               2017-02-13 13:57:51  \n",
       "price                                           199.9  \n",
       "freight_value                                   18.14  "
      ]
     },
     "execution_count": 11,
     "metadata": {},
     "output_type": "execute_result"
    }
   ],
   "source": [
    "item.head().T"
   ]
  },
  {
   "cell_type": "code",
   "execution_count": 12,
   "id": "eac3a867",
   "metadata": {},
   "outputs": [],
   "source": [
    "item_copy=item[['price']].copy()"
   ]
  },
  {
   "cell_type": "code",
   "execution_count": 13,
   "id": "34d97b25",
   "metadata": {},
   "outputs": [],
   "source": [
    "item_copy['price']=item_copy['price'].apply(lambda x: \n",
    "                                            '100-' if x<=100 \n",
    "                                             else '100+' if 200>x>100\n",
    "                                             else '200+')"
   ]
  },
  {
   "cell_type": "code",
   "execution_count": 14,
   "id": "c96dcbf8",
   "metadata": {},
   "outputs": [
    {
     "data": {
      "text/plain": [
       "<AxesSubplot:ylabel='price'>"
      ]
     },
     "execution_count": 14,
     "metadata": {},
     "output_type": "execute_result"
    },
    {
     "data": {
      "image/png": "[encoded data removed]",
      "text/plain": [
       "<Figure size 432x432 with 1 Axes>"
      ]
     },
     "metadata": {},
     "output_type": "display_data"
    }
   ],
   "source": [
    "item_copy['price'].value_counts().plot(kind='pie',figsize=(6,6),autopct='%1.0f%%')"
   ]
  },
  {
   "cell_type": "code",
   "execution_count": 15,
   "id": "31cb05bf",
   "metadata": {},
   "outputs": [
    {
     "data": {
      "text/plain": [
       "order_id                 object\n",
       "payment_sequential        int64\n",
       "payment_type             object\n",
       "payment_installments      int64\n",
       "payment_value           float64\n",
       "dtype: object"
      ]
     },
     "execution_count": 15,
     "metadata": {},
     "output_type": "execute_result"
    }
   ],
   "source": [
    "pay=pd.read_csv('/Users/rae/Desktop/datasets 2/brazil/olist_order_payments_dataset.csv')\n",
    "pay.dtypes"
   ]
  },
  {
   "cell_type": "code",
   "execution_count": 16,
   "id": "817320d1",
   "metadata": {
    "scrolled": true
   },
   "outputs": [
    {
     "data": {
      "text/html": [
       "<div>\n",
       "<style scoped>\n",
       "    .dataframe tbody tr th:only-of-type {\n",
       "        vertical-align: middle;\n",
       "    }\n",
       "\n",
       "    .dataframe tbody tr th {\n",
       "        vertical-align: top;\n",
       "    }\n",
       "\n",
       "    .dataframe thead th {\n",
       "        text-align: right;\n",
       "    }\n",
       "</style>\n",
       "<table border=\"1\" class=\"dataframe\">\n",
       "  <thead>\n",
       "    <tr style=\"text-align: right;\">\n",
       "      <th></th>\n",
       "      <th>0</th>\n",
       "      <th>1</th>\n",
       "      <th>2</th>\n",
       "      <th>3</th>\n",
       "      <th>4</th>\n",
       "    </tr>\n",
       "  </thead>\n",
       "  <tbody>\n",
       "    <tr>\n",
       "      <th>order_id</th>\n",
       "      <td>b81ef226f3fe1789b1e8b2acac839d17</td>\n",
       "      <td>a9810da82917af2d9aefd1278f1dcfa0</td>\n",
       "      <td>25e8ea4e93396b6fa0d3dd708e76c1bd</td>\n",
       "      <td>ba78997921bbcdc1373bb41e913ab953</td>\n",
       "      <td>42fdf880ba16b47b59251dd489d4441a</td>\n",
       "    </tr>\n",
       "    <tr>\n",
       "      <th>payment_sequential</th>\n",
       "      <td>1</td>\n",
       "      <td>1</td>\n",
       "      <td>1</td>\n",
       "      <td>1</td>\n",
       "      <td>1</td>\n",
       "    </tr>\n",
       "    <tr>\n",
       "      <th>payment_type</th>\n",
       "      <td>credit_card</td>\n",
       "      <td>credit_card</td>\n",
       "      <td>credit_card</td>\n",
       "      <td>credit_card</td>\n",
       "      <td>credit_card</td>\n",
       "    </tr>\n",
       "    <tr>\n",
       "      <th>payment_installments</th>\n",
       "      <td>8</td>\n",
       "      <td>1</td>\n",
       "      <td>1</td>\n",
       "      <td>8</td>\n",
       "      <td>2</td>\n",
       "    </tr>\n",
       "    <tr>\n",
       "      <th>payment_value</th>\n",
       "      <td>99.33</td>\n",
       "      <td>24.39</td>\n",
       "      <td>65.71</td>\n",
       "      <td>107.78</td>\n",
       "      <td>128.45</td>\n",
       "    </tr>\n",
       "  </tbody>\n",
       "</table>\n",
       "</div>"
      ],
      "text/plain": [
       "                                                     0  \\\n",
       "order_id              b81ef226f3fe1789b1e8b2acac839d17   \n",
       "payment_sequential                                   1   \n",
       "payment_type                               credit_card   \n",
       "payment_installments                                 8   \n",
       "payment_value                                    99.33   \n",
       "\n",
       "                                                     1  \\\n",
       "order_id              a9810da82917af2d9aefd1278f1dcfa0   \n",
       "payment_sequential                                   1   \n",
       "payment_type                               credit_card   \n",
       "payment_installments                                 1   \n",
       "payment_value                                    24.39   \n",
       "\n",
       "                                                     2  \\\n",
       "order_id              25e8ea4e93396b6fa0d3dd708e76c1bd   \n",
       "payment_sequential                                   1   \n",
       "payment_type                               credit_card   \n",
       "payment_installments                                 1   \n",
       "payment_value                                    65.71   \n",
       "\n",
       "                                                     3  \\\n",
       "order_id              ba78997921bbcdc1373bb41e913ab953   \n",
       "payment_sequential                                   1   \n",
       "payment_type                               credit_card   \n",
       "payment_installments                                 8   \n",
       "payment_value                                   107.78   \n",
       "\n",
       "                                                     4  \n",
       "order_id              42fdf880ba16b47b59251dd489d4441a  \n",
       "payment_sequential                                   1  \n",
       "payment_type                               credit_card  \n",
       "payment_installments                                 2  \n",
       "payment_value                                   128.45  "
      ]
     },
     "execution_count": 16,
     "metadata": {},
     "output_type": "execute_result"
    }
   ],
   "source": [
    "pay.head().T"
   ]
  },
  {
   "cell_type": "code",
   "execution_count": 17,
   "id": "7d0e1436",
   "metadata": {},
   "outputs": [
    {
     "data": {
      "text/plain": [
       "<AxesSubplot:ylabel='payment_type'>"
      ]
     },
     "execution_count": 17,
     "metadata": {},
     "output_type": "execute_result"
    },
    {
     "data": {
      "image/png": "[encoded data removed]",
      "text/plain": [
       "<Figure size 720x720 with 1 Axes>"
      ]
     },
     "metadata": {},
     "output_type": "display_data"
    }
   ],
   "source": [
    "pay['payment_type'].value_counts().plot(kind='pie',figsize=(10,10),autopct='%1.1f%%',textprops={'fontsize':15})"
   ]
  },
  {
   "cell_type": "code",
   "execution_count": 18,
   "id": "dbecee05",
   "metadata": {},
   "outputs": [],
   "source": [
    "pay_copy2=pay[['payment_value']].copy()"
   ]
  },
  {
   "cell_type": "code",
   "execution_count": 19,
   "id": "57b0e92f",
   "metadata": {},
   "outputs": [],
   "source": [
    "pay_copy2['payment_value']=pay_copy2['payment_value'].apply(lambda x: \n",
    "                                            '100-' if x<=100 \n",
    "                                             else '100+' if 200>x>100\n",
    "                                             else '200+')"
   ]
  },
  {
   "cell_type": "code",
   "execution_count": 20,
   "id": "cdda6b8c",
   "metadata": {},
   "outputs": [
    {
     "data": {
      "text/plain": [
       "<AxesSubplot:ylabel='payment_value'>"
      ]
     },
     "execution_count": 20,
     "metadata": {},
     "output_type": "execute_result"
    },
    {
     "data": {
      "image/png": "[encoded data removed]",
      "text/plain": [
       "<Figure size 504x504 with 1 Axes>"
      ]
     },
     "metadata": {},
     "output_type": "display_data"
    }
   ],
   "source": [
    "pay_copy2['payment_value'].value_counts().plot(kind='pie',figsize=(7,7),autopct='%1.1f%%',startangle=90)"
   ]
  },
  {
   "cell_type": "code",
   "execution_count": 21,
   "id": "a30a929d",
   "metadata": {},
   "outputs": [],
   "source": [
    "p_c=pay[['payment_value']].copy()"
   ]
  },
  {
   "cell_type": "code",
   "execution_count": 22,
   "id": "52321796",
   "metadata": {},
   "outputs": [],
   "source": [
    "p_c['payment_value']=p_c['payment_value'].apply(lambda x : True if x>100 else False)"
   ]
  },
  {
   "cell_type": "code",
   "execution_count": 23,
   "id": "c4e45afd",
   "metadata": {},
   "outputs": [
    {
     "data": {
      "text/plain": [
       "<AxesSubplot:ylabel='payment_value'>"
      ]
     },
     "execution_count": 23,
     "metadata": {},
     "output_type": "execute_result"
    },
    {
     "data": {
      "image/png": "[encoded data removed]",
      "text/plain": [
       "<Figure size 504x504 with 1 Axes>"
      ]
     },
     "metadata": {},
     "output_type": "display_data"
    }
   ],
   "source": [
    "p_c['payment_value'].value_counts().plot(kind='pie',figsize=(7,7),autopct='%1.1f%%',startangle=90)"
   ]
  },
  {
   "cell_type": "code",
   "execution_count": 24,
   "id": "692a983c",
   "metadata": {},
   "outputs": [],
   "source": [
    "pay_copy=pay[['payment_value']].copy()"
   ]
  },
  {
   "cell_type": "code",
   "execution_count": 25,
   "id": "36cf26b4",
   "metadata": {},
   "outputs": [],
   "source": [
    "pay_copy['payment_value']=pay_copy['payment_value'].apply(lambda x : True if x>200 else False)"
   ]
  },
  {
   "cell_type": "code",
   "execution_count": 26,
   "id": "8400f6f3",
   "metadata": {},
   "outputs": [
    {
     "data": {
      "text/plain": [
       "<AxesSubplot:ylabel='payment_value'>"
      ]
     },
     "execution_count": 26,
     "metadata": {},
     "output_type": "execute_result"
    },
    {
     "data": {
      "image/png": "[encoded data removed]",
      "text/plain": [
       "<Figure size 504x504 with 1 Axes>"
      ]
     },
     "metadata": {},
     "output_type": "display_data"
    }
   ],
   "source": [
    "pay_copy['payment_value'].value_counts().plot(kind='pie',figsize=(7,7),autopct='%1.1f%%',startangle=90)"
   ]
  },
  {
   "cell_type": "code",
   "execution_count": 27,
   "id": "79e72ae6",
   "metadata": {},
   "outputs": [
    {
     "data": {
      "text/plain": [
       "product_category_name            object\n",
       "product_category_name_english    object\n",
       "dtype: object"
      ]
     },
     "execution_count": 27,
     "metadata": {},
     "output_type": "execute_result"
    }
   ],
   "source": [
    "cat=pd.read_csv('/Users/rae/Desktop/datasets 2/Brazil/product_category_name_translation.csv')\n",
    "cat.dtypes"
   ]
  },
  {
   "cell_type": "code",
   "execution_count": 28,
   "id": "7433ec93",
   "metadata": {},
   "outputs": [
    {
     "data": {
      "text/plain": [
       "product_id                     object\n",
       "product_category_name          object\n",
       "product_name_lenght           float64\n",
       "product_description_lenght    float64\n",
       "product_photos_qty            float64\n",
       "product_weight_g              float64\n",
       "product_length_cm             float64\n",
       "product_height_cm             float64\n",
       "product_width_cm              float64\n",
       "dtype: object"
      ]
     },
     "execution_count": 28,
     "metadata": {},
     "output_type": "execute_result"
    }
   ],
   "source": [
    "pro=pd.read_csv('/Users/rae/Desktop/datasets 2/Brazil/olist_products_dataset.csv')\n",
    "pro.dtypes"
   ]
  },
  {
   "cell_type": "code",
   "execution_count": 29,
   "id": "c6cb0ba3",
   "metadata": {},
   "outputs": [
    {
     "data": {
      "text/html": [
       "<div>\n",
       "<style scoped>\n",
       "    .dataframe tbody tr th:only-of-type {\n",
       "        vertical-align: middle;\n",
       "    }\n",
       "\n",
       "    .dataframe tbody tr th {\n",
       "        vertical-align: top;\n",
       "    }\n",
       "\n",
       "    .dataframe thead th {\n",
       "        text-align: right;\n",
       "    }\n",
       "</style>\n",
       "<table border=\"1\" class=\"dataframe\">\n",
       "  <thead>\n",
       "    <tr style=\"text-align: right;\">\n",
       "      <th></th>\n",
       "      <th>0</th>\n",
       "      <th>1</th>\n",
       "      <th>2</th>\n",
       "      <th>3</th>\n",
       "      <th>4</th>\n",
       "    </tr>\n",
       "  </thead>\n",
       "  <tbody>\n",
       "    <tr>\n",
       "      <th>product_id</th>\n",
       "      <td>1e9e8ef04dbcff4541ed26657ea517e5</td>\n",
       "      <td>3aa071139cb16b67ca9e5dea641aaa2f</td>\n",
       "      <td>96bd76ec8810374ed1b65e291975717f</td>\n",
       "      <td>cef67bcfe19066a932b7673e239eb23d</td>\n",
       "      <td>9dc1a7de274444849c219cff195d0b71</td>\n",
       "    </tr>\n",
       "    <tr>\n",
       "      <th>product_category_name</th>\n",
       "      <td>perfumaria</td>\n",
       "      <td>artes</td>\n",
       "      <td>esporte_lazer</td>\n",
       "      <td>bebes</td>\n",
       "      <td>utilidades_domesticas</td>\n",
       "    </tr>\n",
       "    <tr>\n",
       "      <th>product_name_lenght</th>\n",
       "      <td>40.0</td>\n",
       "      <td>44.0</td>\n",
       "      <td>46.0</td>\n",
       "      <td>27.0</td>\n",
       "      <td>37.0</td>\n",
       "    </tr>\n",
       "    <tr>\n",
       "      <th>product_description_lenght</th>\n",
       "      <td>287.0</td>\n",
       "      <td>276.0</td>\n",
       "      <td>250.0</td>\n",
       "      <td>261.0</td>\n",
       "      <td>402.0</td>\n",
       "    </tr>\n",
       "    <tr>\n",
       "      <th>product_photos_qty</th>\n",
       "      <td>1.0</td>\n",
       "      <td>1.0</td>\n",
       "      <td>1.0</td>\n",
       "      <td>1.0</td>\n",
       "      <td>4.0</td>\n",
       "    </tr>\n",
       "    <tr>\n",
       "      <th>product_weight_g</th>\n",
       "      <td>225.0</td>\n",
       "      <td>1000.0</td>\n",
       "      <td>154.0</td>\n",
       "      <td>371.0</td>\n",
       "      <td>625.0</td>\n",
       "    </tr>\n",
       "    <tr>\n",
       "      <th>product_length_cm</th>\n",
       "      <td>16.0</td>\n",
       "      <td>30.0</td>\n",
       "      <td>18.0</td>\n",
       "      <td>26.0</td>\n",
       "      <td>20.0</td>\n",
       "    </tr>\n",
       "    <tr>\n",
       "      <th>product_height_cm</th>\n",
       "      <td>10.0</td>\n",
       "      <td>18.0</td>\n",
       "      <td>9.0</td>\n",
       "      <td>4.0</td>\n",
       "      <td>17.0</td>\n",
       "    </tr>\n",
       "    <tr>\n",
       "      <th>product_width_cm</th>\n",
       "      <td>14.0</td>\n",
       "      <td>20.0</td>\n",
       "      <td>15.0</td>\n",
       "      <td>26.0</td>\n",
       "      <td>13.0</td>\n",
       "    </tr>\n",
       "  </tbody>\n",
       "</table>\n",
       "</div>"
      ],
      "text/plain": [
       "                                                           0  \\\n",
       "product_id                  1e9e8ef04dbcff4541ed26657ea517e5   \n",
       "product_category_name                             perfumaria   \n",
       "product_name_lenght                                     40.0   \n",
       "product_description_lenght                             287.0   \n",
       "product_photos_qty                                       1.0   \n",
       "product_weight_g                                       225.0   \n",
       "product_length_cm                                       16.0   \n",
       "product_height_cm                                       10.0   \n",
       "product_width_cm                                        14.0   \n",
       "\n",
       "                                                           1  \\\n",
       "product_id                  3aa071139cb16b67ca9e5dea641aaa2f   \n",
       "product_category_name                                  artes   \n",
       "product_name_lenght                                     44.0   \n",
       "product_description_lenght                             276.0   \n",
       "product_photos_qty                                       1.0   \n",
       "product_weight_g                                      1000.0   \n",
       "product_length_cm                                       30.0   \n",
       "product_height_cm                                       18.0   \n",
       "product_width_cm                                        20.0   \n",
       "\n",
       "                                                           2  \\\n",
       "product_id                  96bd76ec8810374ed1b65e291975717f   \n",
       "product_category_name                          esporte_lazer   \n",
       "product_name_lenght                                     46.0   \n",
       "product_description_lenght                             250.0   \n",
       "product_photos_qty                                       1.0   \n",
       "product_weight_g                                       154.0   \n",
       "product_length_cm                                       18.0   \n",
       "product_height_cm                                        9.0   \n",
       "product_width_cm                                        15.0   \n",
       "\n",
       "                                                           3  \\\n",
       "product_id                  cef67bcfe19066a932b7673e239eb23d   \n",
       "product_category_name                                  bebes   \n",
       "product_name_lenght                                     27.0   \n",
       "product_description_lenght                             261.0   \n",
       "product_photos_qty                                       1.0   \n",
       "product_weight_g                                       371.0   \n",
       "product_length_cm                                       26.0   \n",
       "product_height_cm                                        4.0   \n",
       "product_width_cm                                        26.0   \n",
       "\n",
       "                                                           4  \n",
       "product_id                  9dc1a7de274444849c219cff195d0b71  \n",
       "product_category_name                  utilidades_domesticas  \n",
       "product_name_lenght                                     37.0  \n",
       "product_description_lenght                             402.0  \n",
       "product_photos_qty                                       4.0  \n",
       "product_weight_g                                       625.0  \n",
       "product_length_cm                                       20.0  \n",
       "product_height_cm                                       17.0  \n",
       "product_width_cm                                        13.0  "
      ]
     },
     "execution_count": 29,
     "metadata": {},
     "output_type": "execute_result"
    }
   ],
   "source": [
    "pro.head().T"
   ]
  },
  {
   "cell_type": "code",
   "execution_count": 30,
   "id": "5c304e92",
   "metadata": {
    "scrolled": true
   },
   "outputs": [
    {
     "data": {
      "text/html": [
       "<div>\n",
       "<style scoped>\n",
       "    .dataframe tbody tr th:only-of-type {\n",
       "        vertical-align: middle;\n",
       "    }\n",
       "\n",
       "    .dataframe tbody tr th {\n",
       "        vertical-align: top;\n",
       "    }\n",
       "\n",
       "    .dataframe thead th {\n",
       "        text-align: right;\n",
       "    }\n",
       "</style>\n",
       "<table border=\"1\" class=\"dataframe\">\n",
       "  <thead>\n",
       "    <tr style=\"text-align: right;\">\n",
       "      <th></th>\n",
       "      <th>0</th>\n",
       "      <th>1</th>\n",
       "      <th>2</th>\n",
       "      <th>3</th>\n",
       "      <th>4</th>\n",
       "    </tr>\n",
       "  </thead>\n",
       "  <tbody>\n",
       "    <tr>\n",
       "      <th>product_category_name</th>\n",
       "      <td>beleza_saude</td>\n",
       "      <td>beleza_saude</td>\n",
       "      <td>beleza_saude</td>\n",
       "      <td>beleza_saude</td>\n",
       "      <td>beleza_saude</td>\n",
       "    </tr>\n",
       "    <tr>\n",
       "      <th>product_category_name_english</th>\n",
       "      <td>health_beauty</td>\n",
       "      <td>health_beauty</td>\n",
       "      <td>health_beauty</td>\n",
       "      <td>health_beauty</td>\n",
       "      <td>health_beauty</td>\n",
       "    </tr>\n",
       "    <tr>\n",
       "      <th>product_id</th>\n",
       "      <td>e3e020af31d4d89d2602272b315c3f6e</td>\n",
       "      <td>c5d8079278e912d7e3b6beb48ecb56e8</td>\n",
       "      <td>36555a2f528d7b2a255c504191445d39</td>\n",
       "      <td>e586ebb6022265ae1eea38f46ffe3ead</td>\n",
       "      <td>75b4372e69a42f8ae1d908c076f547b2</td>\n",
       "    </tr>\n",
       "    <tr>\n",
       "      <th>product_name_lenght</th>\n",
       "      <td>58.0</td>\n",
       "      <td>60.0</td>\n",
       "      <td>51.0</td>\n",
       "      <td>40.0</td>\n",
       "      <td>22.0</td>\n",
       "    </tr>\n",
       "    <tr>\n",
       "      <th>product_description_lenght</th>\n",
       "      <td>1987.0</td>\n",
       "      <td>330.0</td>\n",
       "      <td>1069.0</td>\n",
       "      <td>1469.0</td>\n",
       "      <td>1313.0</td>\n",
       "    </tr>\n",
       "    <tr>\n",
       "      <th>product_photos_qty</th>\n",
       "      <td>3.0</td>\n",
       "      <td>1.0</td>\n",
       "      <td>1.0</td>\n",
       "      <td>3.0</td>\n",
       "      <td>1.0</td>\n",
       "    </tr>\n",
       "    <tr>\n",
       "      <th>product_weight_g</th>\n",
       "      <td>75.0</td>\n",
       "      <td>1300.0</td>\n",
       "      <td>1467.0</td>\n",
       "      <td>1050.0</td>\n",
       "      <td>938.0</td>\n",
       "    </tr>\n",
       "    <tr>\n",
       "      <th>product_length_cm</th>\n",
       "      <td>21.0</td>\n",
       "      <td>19.0</td>\n",
       "      <td>23.0</td>\n",
       "      <td>18.0</td>\n",
       "      <td>29.0</td>\n",
       "    </tr>\n",
       "    <tr>\n",
       "      <th>product_height_cm</th>\n",
       "      <td>7.0</td>\n",
       "      <td>28.0</td>\n",
       "      <td>16.0</td>\n",
       "      <td>21.0</td>\n",
       "      <td>22.0</td>\n",
       "    </tr>\n",
       "    <tr>\n",
       "      <th>product_width_cm</th>\n",
       "      <td>13.0</td>\n",
       "      <td>17.0</td>\n",
       "      <td>20.0</td>\n",
       "      <td>27.0</td>\n",
       "      <td>23.0</td>\n",
       "    </tr>\n",
       "  </tbody>\n",
       "</table>\n",
       "</div>"
      ],
      "text/plain": [
       "                                                              0  \\\n",
       "product_category_name                              beleza_saude   \n",
       "product_category_name_english                     health_beauty   \n",
       "product_id                     e3e020af31d4d89d2602272b315c3f6e   \n",
       "product_name_lenght                                        58.0   \n",
       "product_description_lenght                               1987.0   \n",
       "product_photos_qty                                          3.0   \n",
       "product_weight_g                                           75.0   \n",
       "product_length_cm                                          21.0   \n",
       "product_height_cm                                           7.0   \n",
       "product_width_cm                                           13.0   \n",
       "\n",
       "                                                              1  \\\n",
       "product_category_name                              beleza_saude   \n",
       "product_category_name_english                     health_beauty   \n",
       "product_id                     c5d8079278e912d7e3b6beb48ecb56e8   \n",
       "product_name_lenght                                        60.0   \n",
       "product_description_lenght                                330.0   \n",
       "product_photos_qty                                          1.0   \n",
       "product_weight_g                                         1300.0   \n",
       "product_length_cm                                          19.0   \n",
       "product_height_cm                                          28.0   \n",
       "product_width_cm                                           17.0   \n",
       "\n",
       "                                                              2  \\\n",
       "product_category_name                              beleza_saude   \n",
       "product_category_name_english                     health_beauty   \n",
       "product_id                     36555a2f528d7b2a255c504191445d39   \n",
       "product_name_lenght                                        51.0   \n",
       "product_description_lenght                               1069.0   \n",
       "product_photos_qty                                          1.0   \n",
       "product_weight_g                                         1467.0   \n",
       "product_length_cm                                          23.0   \n",
       "product_height_cm                                          16.0   \n",
       "product_width_cm                                           20.0   \n",
       "\n",
       "                                                              3  \\\n",
       "product_category_name                              beleza_saude   \n",
       "product_category_name_english                     health_beauty   \n",
       "product_id                     e586ebb6022265ae1eea38f46ffe3ead   \n",
       "product_name_lenght                                        40.0   \n",
       "product_description_lenght                               1469.0   \n",
       "product_photos_qty                                          3.0   \n",
       "product_weight_g                                         1050.0   \n",
       "product_length_cm                                          18.0   \n",
       "product_height_cm                                          21.0   \n",
       "product_width_cm                                           27.0   \n",
       "\n",
       "                                                              4  \n",
       "product_category_name                              beleza_saude  \n",
       "product_category_name_english                     health_beauty  \n",
       "product_id                     75b4372e69a42f8ae1d908c076f547b2  \n",
       "product_name_lenght                                        22.0  \n",
       "product_description_lenght                               1313.0  \n",
       "product_photos_qty                                          1.0  \n",
       "product_weight_g                                          938.0  \n",
       "product_length_cm                                          29.0  \n",
       "product_height_cm                                          22.0  \n",
       "product_width_cm                                           23.0  "
      ]
     },
     "execution_count": 30,
     "metadata": {},
     "output_type": "execute_result"
    }
   ],
   "source": [
    "s=pd.merge(cat,pro,how='inner',on='product_category_name')\n",
    "s.head().T"
   ]
  },
  {
   "cell_type": "code",
   "execution_count": 31,
   "id": "8b305d4a",
   "metadata": {},
   "outputs": [
    {
     "data": {
      "text/plain": [
       "<seaborn.axisgrid.FacetGrid at 0x7fe6e2fbf2e0>"
      ]
     },
     "execution_count": 31,
     "metadata": {},
     "output_type": "execute_result"
    },
    {
     "data": {
      "image/png": "[encoded data removed]",
      "text/plain": [
       "<Figure size 1080x360 with 1 Axes>"
      ]
     },
     "metadata": {
      "needs_background": "light"
     },
     "output_type": "display_data"
    }
   ],
   "source": [
    "g=sns.catplot(data=s,x='product_category_name_english',kind='count',aspect=3)\n",
    "g.set_xticklabels(rotation=70,fontsize=5)"
   ]
  },
  {
   "cell_type": "code",
   "execution_count": 32,
   "id": "2aa1b3b5",
   "metadata": {},
   "outputs": [
    {
     "data": {
      "text/plain": [
       "<seaborn.axisgrid.FacetGrid at 0x7fe6e23c8880>"
      ]
     },
     "execution_count": 32,
     "metadata": {},
     "output_type": "execute_result"
    },
    {
     "data": {
      "image/png": "[encoded data removed]",
      "text/plain": [
       "<Figure size 1080x360 with 1 Axes>"
      ]
     },
     "metadata": {
      "needs_background": "light"
     },
     "output_type": "display_data"
    }
   ],
   "source": [
    "g=sns.catplot(data=s,x='product_category_name_english',kind='count',aspect=3,\n",
    "             order=s['product_category_name_english'].value_counts().index[0:15])\n",
    "g.set_xticklabels(rotation=70,fontsize=15)"
   ]
  },
  {
   "cell_type": "code",
   "execution_count": 33,
   "id": "8a8700e9",
   "metadata": {},
   "outputs": [
    {
     "data": {
      "text/plain": [
       "bed_bath_table              3029\n",
       "sports_leisure              2867\n",
       "furniture_decor             2657\n",
       "health_beauty               2444\n",
       "housewares                  2335\n",
       "auto                        1900\n",
       "computers_accessories       1639\n",
       "toys                        1411\n",
       "watches_gifts               1329\n",
       "telephony                   1134\n",
       "baby                         919\n",
       "perfumery                    868\n",
       "fashion_bags_accessories     849\n",
       "stationery                   849\n",
       "cool_stuff                   789\n",
       "Name: product_category_name_english, dtype: int64"
      ]
     },
     "execution_count": 33,
     "metadata": {},
     "output_type": "execute_result"
    }
   ],
   "source": [
    "s['product_category_name_english'].value_counts().head(15)"
   ]
  },
  {
   "cell_type": "code",
   "execution_count": 34,
   "id": "88af1ebd",
   "metadata": {},
   "outputs": [
    {
     "data": {
      "text/plain": [
       "Index(['bed_bath_table', 'sports_leisure', 'furniture_decor', 'health_beauty',\n",
       "       'housewares', 'auto', 'computers_accessories', 'toys', 'watches_gifts',\n",
       "       'telephony', 'baby', 'perfumery', 'fashion_bags_accessories',\n",
       "       'stationery', 'cool_stuff'],\n",
       "      dtype='object')"
      ]
     },
     "execution_count": 34,
     "metadata": {},
     "output_type": "execute_result"
    }
   ],
   "source": [
    "s['product_category_name_english'].value_counts().index[0:15]"
   ]
  },
  {
   "cell_type": "code",
   "execution_count": 35,
   "id": "877867c6",
   "metadata": {},
   "outputs": [
    {
     "data": {
      "text/plain": [
       "customer_id                 object\n",
       "customer_unique_id          object\n",
       "customer_zip_code_prefix     int64\n",
       "customer_city               object\n",
       "customer_state              object\n",
       "dtype: object"
      ]
     },
     "execution_count": 35,
     "metadata": {},
     "output_type": "execute_result"
    }
   ],
   "source": [
    "cus=pd.read_csv('/Users/rae/Desktop/datasets 2/Brazil/olist_customers_dataset.csv')\n",
    "cus.dtypes"
   ]
  },
  {
   "cell_type": "code",
   "execution_count": 36,
   "id": "ca0d5e39",
   "metadata": {},
   "outputs": [
    {
     "data": {
      "text/html": [
       "<div>\n",
       "<style scoped>\n",
       "    .dataframe tbody tr th:only-of-type {\n",
       "        vertical-align: middle;\n",
       "    }\n",
       "\n",
       "    .dataframe tbody tr th {\n",
       "        vertical-align: top;\n",
       "    }\n",
       "\n",
       "    .dataframe thead th {\n",
       "        text-align: right;\n",
       "    }\n",
       "</style>\n",
       "<table border=\"1\" class=\"dataframe\">\n",
       "  <thead>\n",
       "    <tr style=\"text-align: right;\">\n",
       "      <th></th>\n",
       "      <th>0</th>\n",
       "      <th>1</th>\n",
       "      <th>2</th>\n",
       "      <th>3</th>\n",
       "      <th>4</th>\n",
       "    </tr>\n",
       "  </thead>\n",
       "  <tbody>\n",
       "    <tr>\n",
       "      <th>customer_id</th>\n",
       "      <td>06b8999e2fba1a1fbc88172c00ba8bc7</td>\n",
       "      <td>18955e83d337fd6b2def6b18a428ac77</td>\n",
       "      <td>4e7b3e00288586ebd08712fdd0374a03</td>\n",
       "      <td>b2b6027bc5c5109e529d4dc6358b12c3</td>\n",
       "      <td>4f2d8ab171c80ec8364f7c12e35b23ad</td>\n",
       "    </tr>\n",
       "    <tr>\n",
       "      <th>customer_unique_id</th>\n",
       "      <td>861eff4711a542e4b93843c6dd7febb0</td>\n",
       "      <td>290c77bc529b7ac935b93aa66c333dc3</td>\n",
       "      <td>060e732b5b29e8181a18229c7b0b2b5e</td>\n",
       "      <td>259dac757896d24d7702b9acbbff3f3c</td>\n",
       "      <td>345ecd01c38d18a9036ed96c73b8d066</td>\n",
       "    </tr>\n",
       "    <tr>\n",
       "      <th>customer_zip_code_prefix</th>\n",
       "      <td>14409</td>\n",
       "      <td>9790</td>\n",
       "      <td>1151</td>\n",
       "      <td>8775</td>\n",
       "      <td>13056</td>\n",
       "    </tr>\n",
       "    <tr>\n",
       "      <th>customer_city</th>\n",
       "      <td>franca</td>\n",
       "      <td>sao bernardo do campo</td>\n",
       "      <td>sao paulo</td>\n",
       "      <td>mogi das cruzes</td>\n",
       "      <td>campinas</td>\n",
       "    </tr>\n",
       "    <tr>\n",
       "      <th>customer_state</th>\n",
       "      <td>SP</td>\n",
       "      <td>SP</td>\n",
       "      <td>SP</td>\n",
       "      <td>SP</td>\n",
       "      <td>SP</td>\n",
       "    </tr>\n",
       "  </tbody>\n",
       "</table>\n",
       "</div>"
      ],
      "text/plain": [
       "                                                         0  \\\n",
       "customer_id               06b8999e2fba1a1fbc88172c00ba8bc7   \n",
       "customer_unique_id        861eff4711a542e4b93843c6dd7febb0   \n",
       "customer_zip_code_prefix                             14409   \n",
       "customer_city                                       franca   \n",
       "customer_state                                          SP   \n",
       "\n",
       "                                                         1  \\\n",
       "customer_id               18955e83d337fd6b2def6b18a428ac77   \n",
       "customer_unique_id        290c77bc529b7ac935b93aa66c333dc3   \n",
       "customer_zip_code_prefix                              9790   \n",
       "customer_city                        sao bernardo do campo   \n",
       "customer_state                                          SP   \n",
       "\n",
       "                                                         2  \\\n",
       "customer_id               4e7b3e00288586ebd08712fdd0374a03   \n",
       "customer_unique_id        060e732b5b29e8181a18229c7b0b2b5e   \n",
       "customer_zip_code_prefix                              1151   \n",
       "customer_city                                    sao paulo   \n",
       "customer_state                                          SP   \n",
       "\n",
       "                                                         3  \\\n",
       "customer_id               b2b6027bc5c5109e529d4dc6358b12c3   \n",
       "customer_unique_id        259dac757896d24d7702b9acbbff3f3c   \n",
       "customer_zip_code_prefix                              8775   \n",
       "customer_city                              mogi das cruzes   \n",
       "customer_state                                          SP   \n",
       "\n",
       "                                                         4  \n",
       "customer_id               4f2d8ab171c80ec8364f7c12e35b23ad  \n",
       "customer_unique_id        345ecd01c38d18a9036ed96c73b8d066  \n",
       "customer_zip_code_prefix                             13056  \n",
       "customer_city                                     campinas  \n",
       "customer_state                                          SP  "
      ]
     },
     "execution_count": 36,
     "metadata": {},
     "output_type": "execute_result"
    }
   ],
   "source": [
    "cus.head().T"
   ]
  },
  {
   "cell_type": "code",
   "execution_count": 37,
   "id": "3c79e27e",
   "metadata": {},
   "outputs": [
    {
     "data": {
      "text/plain": [
       "<seaborn.axisgrid.FacetGrid at 0x7fe6e3e39550>"
      ]
     },
     "execution_count": 37,
     "metadata": {},
     "output_type": "execute_result"
    },
    {
     "data": {
      "image/png": "[encoded data removed]",
      "text/plain": [
       "<Figure size 1080x360 with 1 Axes>"
      ]
     },
     "metadata": {
      "needs_background": "light"
     },
     "output_type": "display_data"
    }
   ],
   "source": [
    "g=sns.catplot(data=cus,x='customer_state',kind='count',aspect=3,\n",
    "             order=cus['customer_state'].value_counts().index[0:15])\n",
    "g.set_xticklabels(rotation=70,fontsize=15)"
   ]
  },
  {
   "cell_type": "code",
   "execution_count": 38,
   "id": "054de7c3",
   "metadata": {},
   "outputs": [
    {
     "data": {
      "text/plain": [
       "<seaborn.axisgrid.FacetGrid at 0x7fe6e262e370>"
      ]
     },
     "execution_count": 38,
     "metadata": {},
     "output_type": "execute_result"
    },
    {
     "data": {
      "image/png": "[encoded data removed]",
      "text/plain": [
       "<Figure size 1080x360 with 1 Axes>"
      ]
     },
     "metadata": {
      "needs_background": "light"
     },
     "output_type": "display_data"
    }
   ],
   "source": [
    "g=sns.catplot(data=cus,x='customer_city',kind='count',aspect=3,\n",
    "             order=cus['customer_city'].value_counts().index[0:15])\n",
    "g.set_xticklabels(rotation=70,fontsize=15)"
   ]
  },
  {
   "cell_type": "code",
   "execution_count": 39,
   "id": "cbba4e2e",
   "metadata": {},
   "outputs": [
    {
     "data": {
      "text/plain": [
       "seller_id                 object\n",
       "seller_zip_code_prefix     int64\n",
       "seller_city               object\n",
       "seller_state              object\n",
       "dtype: object"
      ]
     },
     "execution_count": 39,
     "metadata": {},
     "output_type": "execute_result"
    }
   ],
   "source": [
    "seller=pd.read_csv('/Users/rae/Desktop/datasets 2/Brazil/olist_sellers_dataset.csv')\n",
    "seller.dtypes"
   ]
  },
  {
   "cell_type": "code",
   "execution_count": 40,
   "id": "95f2d0ba",
   "metadata": {},
   "outputs": [
    {
     "data": {
      "text/html": [
       "<div>\n",
       "<style scoped>\n",
       "    .dataframe tbody tr th:only-of-type {\n",
       "        vertical-align: middle;\n",
       "    }\n",
       "\n",
       "    .dataframe tbody tr th {\n",
       "        vertical-align: top;\n",
       "    }\n",
       "\n",
       "    .dataframe thead th {\n",
       "        text-align: right;\n",
       "    }\n",
       "</style>\n",
       "<table border=\"1\" class=\"dataframe\">\n",
       "  <thead>\n",
       "    <tr style=\"text-align: right;\">\n",
       "      <th></th>\n",
       "      <th>0</th>\n",
       "      <th>1</th>\n",
       "      <th>2</th>\n",
       "      <th>3</th>\n",
       "      <th>4</th>\n",
       "    </tr>\n",
       "  </thead>\n",
       "  <tbody>\n",
       "    <tr>\n",
       "      <th>seller_id</th>\n",
       "      <td>3442f8959a84dea7ee197c632cb2df15</td>\n",
       "      <td>d1b65fc7debc3361ea86b5f14c68d2e2</td>\n",
       "      <td>ce3ad9de960102d0677a81f5d0bb7b2d</td>\n",
       "      <td>c0f3eea2e14555b6faeea3dd58c1b1c3</td>\n",
       "      <td>51a04a8a6bdcb23deccc82b0b80742cf</td>\n",
       "    </tr>\n",
       "    <tr>\n",
       "      <th>seller_zip_code_prefix</th>\n",
       "      <td>13023</td>\n",
       "      <td>13844</td>\n",
       "      <td>20031</td>\n",
       "      <td>4195</td>\n",
       "      <td>12914</td>\n",
       "    </tr>\n",
       "    <tr>\n",
       "      <th>seller_city</th>\n",
       "      <td>campinas</td>\n",
       "      <td>mogi guacu</td>\n",
       "      <td>rio de janeiro</td>\n",
       "      <td>sao paulo</td>\n",
       "      <td>braganca paulista</td>\n",
       "    </tr>\n",
       "    <tr>\n",
       "      <th>seller_state</th>\n",
       "      <td>SP</td>\n",
       "      <td>SP</td>\n",
       "      <td>RJ</td>\n",
       "      <td>SP</td>\n",
       "      <td>SP</td>\n",
       "    </tr>\n",
       "  </tbody>\n",
       "</table>\n",
       "</div>"
      ],
      "text/plain": [
       "                                                       0  \\\n",
       "seller_id               3442f8959a84dea7ee197c632cb2df15   \n",
       "seller_zip_code_prefix                             13023   \n",
       "seller_city                                     campinas   \n",
       "seller_state                                          SP   \n",
       "\n",
       "                                                       1  \\\n",
       "seller_id               d1b65fc7debc3361ea86b5f14c68d2e2   \n",
       "seller_zip_code_prefix                             13844   \n",
       "seller_city                                   mogi guacu   \n",
       "seller_state                                          SP   \n",
       "\n",
       "                                                       2  \\\n",
       "seller_id               ce3ad9de960102d0677a81f5d0bb7b2d   \n",
       "seller_zip_code_prefix                             20031   \n",
       "seller_city                               rio de janeiro   \n",
       "seller_state                                          RJ   \n",
       "\n",
       "                                                       3  \\\n",
       "seller_id               c0f3eea2e14555b6faeea3dd58c1b1c3   \n",
       "seller_zip_code_prefix                              4195   \n",
       "seller_city                                    sao paulo   \n",
       "seller_state                                          SP   \n",
       "\n",
       "                                                       4  \n",
       "seller_id               51a04a8a6bdcb23deccc82b0b80742cf  \n",
       "seller_zip_code_prefix                             12914  \n",
       "seller_city                            braganca paulista  \n",
       "seller_state                                          SP  "
      ]
     },
     "execution_count": 40,
     "metadata": {},
     "output_type": "execute_result"
    }
   ],
   "source": [
    "seller.head().T"
   ]
  },
  {
   "cell_type": "code",
   "execution_count": 41,
   "id": "f1d55d26",
   "metadata": {},
   "outputs": [
    {
     "data": {
      "text/plain": [
       "<seaborn.axisgrid.FacetGrid at 0x7fe6f2ded6a0>"
      ]
     },
     "execution_count": 41,
     "metadata": {},
     "output_type": "execute_result"
    },
    {
     "data": {
      "image/png": "[encoded data removed]",
      "text/plain": [
       "<Figure size 1080x360 with 1 Axes>"
      ]
     },
     "metadata": {
      "needs_background": "light"
     },
     "output_type": "display_data"
    }
   ],
   "source": [
    "g=sns.catplot(data=seller,x='seller_state',kind='count',aspect=3,\n",
    "             order=seller['seller_state'].value_counts().index[0:15])\n",
    "g.set_xticklabels(rotation=70,fontsize=15)"
   ]
  },
  {
   "cell_type": "code",
   "execution_count": 42,
   "id": "3fa3a2c1",
   "metadata": {},
   "outputs": [
    {
     "data": {
      "text/plain": [
       "<seaborn.axisgrid.FacetGrid at 0x7fe6c17ef730>"
      ]
     },
     "execution_count": 42,
     "metadata": {},
     "output_type": "execute_result"
    },
    {
     "data": {
      "image/png": "[encoded data removed]",
      "text/plain": [
       "<Figure size 1080x360 with 1 Axes>"
      ]
     },
     "metadata": {
      "needs_background": "light"
     },
     "output_type": "display_data"
    }
   ],
   "source": [
    "g=sns.catplot(data=seller,x='seller_city',kind='count',aspect=3,\n",
    "             order=seller['seller_city'].value_counts().index[0:15])\n",
    "g.set_xticklabels(rotation=70,fontsize=15)"
   ]
  },
  {
   "cell_type": "code",
   "execution_count": 43,
   "id": "04e1c506",
   "metadata": {},
   "outputs": [
    {
     "data": {
      "text/plain": [
       "review_id                  object\n",
       "order_id                   object\n",
       "review_score                int64\n",
       "review_comment_title       object\n",
       "review_comment_message     object\n",
       "review_creation_date       object\n",
       "review_answer_timestamp    object\n",
       "dtype: object"
      ]
     },
     "execution_count": 43,
     "metadata": {},
     "output_type": "execute_result"
    }
   ],
   "source": [
    "rew=pd.read_csv('/Users/rae/Desktop/datasets 2/Brazil/olist_order_reviews_dataset.csv')\n",
    "rew.dtypes"
   ]
  },
  {
   "cell_type": "code",
   "execution_count": 44,
   "id": "a4954dce",
   "metadata": {},
   "outputs": [
    {
     "data": {
      "text/html": [
       "<div>\n",
       "<style scoped>\n",
       "    .dataframe tbody tr th:only-of-type {\n",
       "        vertical-align: middle;\n",
       "    }\n",
       "\n",
       "    .dataframe tbody tr th {\n",
       "        vertical-align: top;\n",
       "    }\n",
       "\n",
       "    .dataframe thead th {\n",
       "        text-align: right;\n",
       "    }\n",
       "</style>\n",
       "<table border=\"1\" class=\"dataframe\">\n",
       "  <thead>\n",
       "    <tr style=\"text-align: right;\">\n",
       "      <th></th>\n",
       "      <th>0</th>\n",
       "      <th>1</th>\n",
       "      <th>2</th>\n",
       "      <th>3</th>\n",
       "      <th>4</th>\n",
       "    </tr>\n",
       "  </thead>\n",
       "  <tbody>\n",
       "    <tr>\n",
       "      <th>review_id</th>\n",
       "      <td>7bc2406110b926393aa56f80a40eba40</td>\n",
       "      <td>80e641a11e56f04c1ad469d5645fdfde</td>\n",
       "      <td>228ce5500dc1d8e020d8d1322874b6f0</td>\n",
       "      <td>e64fb393e7b32834bb789ff8bb30750e</td>\n",
       "      <td>f7c4243c7fe1938f181bec41a392bdeb</td>\n",
       "    </tr>\n",
       "    <tr>\n",
       "      <th>order_id</th>\n",
       "      <td>73fc7af87114b39712e6da79b0a377eb</td>\n",
       "      <td>a548910a1c6147796b98fdf73dbeba33</td>\n",
       "      <td>f9e4b658b201a9f2ecdecbb34bed034b</td>\n",
       "      <td>658677c97b385a9be170737859d3511b</td>\n",
       "      <td>8e6bfb81e283fa7e4f11123a3fb894f1</td>\n",
       "    </tr>\n",
       "    <tr>\n",
       "      <th>review_score</th>\n",
       "      <td>4</td>\n",
       "      <td>5</td>\n",
       "      <td>5</td>\n",
       "      <td>5</td>\n",
       "      <td>5</td>\n",
       "    </tr>\n",
       "    <tr>\n",
       "      <th>review_comment_title</th>\n",
       "      <td>NaN</td>\n",
       "      <td>NaN</td>\n",
       "      <td>NaN</td>\n",
       "      <td>NaN</td>\n",
       "      <td>NaN</td>\n",
       "    </tr>\n",
       "    <tr>\n",
       "      <th>review_comment_message</th>\n",
       "      <td>NaN</td>\n",
       "      <td>NaN</td>\n",
       "      <td>NaN</td>\n",
       "      <td>Recebi bem antes do prazo estipulado.</td>\n",
       "      <td>Parabéns lojas lannister adorei comprar pela I...</td>\n",
       "    </tr>\n",
       "    <tr>\n",
       "      <th>review_creation_date</th>\n",
       "      <td>2018-01-18 00:00:00</td>\n",
       "      <td>2018-03-10 00:00:00</td>\n",
       "      <td>2018-02-17 00:00:00</td>\n",
       "      <td>2017-04-21 00:00:00</td>\n",
       "      <td>2018-03-01 00:00:00</td>\n",
       "    </tr>\n",
       "    <tr>\n",
       "      <th>review_answer_timestamp</th>\n",
       "      <td>2018-01-18 21:46:59</td>\n",
       "      <td>2018-03-11 03:05:13</td>\n",
       "      <td>2018-02-18 14:36:24</td>\n",
       "      <td>2017-04-21 22:02:06</td>\n",
       "      <td>2018-03-02 10:26:53</td>\n",
       "    </tr>\n",
       "  </tbody>\n",
       "</table>\n",
       "</div>"
      ],
      "text/plain": [
       "                                                        0  \\\n",
       "review_id                7bc2406110b926393aa56f80a40eba40   \n",
       "order_id                 73fc7af87114b39712e6da79b0a377eb   \n",
       "review_score                                            4   \n",
       "review_comment_title                                  NaN   \n",
       "review_comment_message                                NaN   \n",
       "review_creation_date                  2018-01-18 00:00:00   \n",
       "review_answer_timestamp               2018-01-18 21:46:59   \n",
       "\n",
       "                                                        1  \\\n",
       "review_id                80e641a11e56f04c1ad469d5645fdfde   \n",
       "order_id                 a548910a1c6147796b98fdf73dbeba33   \n",
       "review_score                                            5   \n",
       "review_comment_title                                  NaN   \n",
       "review_comment_message                                NaN   \n",
       "review_creation_date                  2018-03-10 00:00:00   \n",
       "review_answer_timestamp               2018-03-11 03:05:13   \n",
       "\n",
       "                                                        2  \\\n",
       "review_id                228ce5500dc1d8e020d8d1322874b6f0   \n",
       "order_id                 f9e4b658b201a9f2ecdecbb34bed034b   \n",
       "review_score                                            5   \n",
       "review_comment_title                                  NaN   \n",
       "review_comment_message                                NaN   \n",
       "review_creation_date                  2018-02-17 00:00:00   \n",
       "review_answer_timestamp               2018-02-18 14:36:24   \n",
       "\n",
       "                                                             3  \\\n",
       "review_id                     e64fb393e7b32834bb789ff8bb30750e   \n",
       "order_id                      658677c97b385a9be170737859d3511b   \n",
       "review_score                                                 5   \n",
       "review_comment_title                                       NaN   \n",
       "review_comment_message   Recebi bem antes do prazo estipulado.   \n",
       "review_creation_date                       2017-04-21 00:00:00   \n",
       "review_answer_timestamp                    2017-04-21 22:02:06   \n",
       "\n",
       "                                                                         4  \n",
       "review_id                                 f7c4243c7fe1938f181bec41a392bdeb  \n",
       "order_id                                  8e6bfb81e283fa7e4f11123a3fb894f1  \n",
       "review_score                                                             5  \n",
       "review_comment_title                                                   NaN  \n",
       "review_comment_message   Parabéns lojas lannister adorei comprar pela I...  \n",
       "review_creation_date                                   2018-03-01 00:00:00  \n",
       "review_answer_timestamp                                2018-03-02 10:26:53  "
      ]
     },
     "execution_count": 44,
     "metadata": {},
     "output_type": "execute_result"
    }
   ],
   "source": [
    "rew.head().T"
   ]
  },
  {
   "cell_type": "code",
   "execution_count": 45,
   "id": "e101cd86",
   "metadata": {},
   "outputs": [
    {
     "data": {
      "text/plain": [
       "<AxesSubplot:ylabel='review_score'>"
      ]
     },
     "execution_count": 45,
     "metadata": {},
     "output_type": "execute_result"
    },
    {
     "data": {
      "image/png": "[encoded data removed]",
      "text/plain": [
       "<Figure size 360x360 with 1 Axes>"
      ]
     },
     "metadata": {},
     "output_type": "display_data"
    }
   ],
   "source": [
    "rew['review_score'].value_counts().plot(kind='pie',figsize=(5,5),autopct='%1.0f%%')"
   ]
  },
  {
   "cell_type": "code",
   "execution_count": 46,
   "id": "f223d09d",
   "metadata": {},
   "outputs": [],
   "source": [
    "sns.set_style('whitegrid')"
   ]
  },
  {
   "cell_type": "code",
   "execution_count": 47,
   "id": "99763bf2",
   "metadata": {},
   "outputs": [],
   "source": [
    "result = pd.merge(order,item,on='order_id')\n",
    "result = pd.merge(result,pro,on='product_id')\n",
    "result = pd.merge(result,cat,on='product_category_name')\n",
    "result = pd.merge(result,cus,on='customer_id')\n",
    "result = pd.merge(result,rew,on='order_id')\n",
    "result = pd.merge(result,seller,on='seller_id')\n",
    "result = pd.merge(result,pay,on='order_id')"
   ]
  },
  {
   "cell_type": "code",
   "execution_count": 48,
   "id": "b5de7dfe",
   "metadata": {
    "scrolled": false
   },
   "outputs": [],
   "source": [
    "df = result[['order_id', 'customer_id','customer_unique_id', 'seller_id', 'order_status', 'price','payment_value', \n",
    "              'product_category_name_english','product_photos_qty', 'review_score','product_weight_g','payment_installments',\n",
    "              'order_purchase_timestamp','order_delivered_customer_date','freight_value',\n",
    "             'customer_state','seller_state','payment_type'\n",
    "             ]].copy()"
   ]
  },
  {
   "cell_type": "code",
   "execution_count": 49,
   "id": "5cf5de30",
   "metadata": {},
   "outputs": [
    {
     "data": {
      "text/plain": [
       "order_id                          object\n",
       "customer_id                       object\n",
       "customer_unique_id                object\n",
       "seller_id                         object\n",
       "order_status                      object\n",
       "price                            float64\n",
       "payment_value                    float64\n",
       "product_category_name_english     object\n",
       "product_photos_qty               float64\n",
       "review_score                       int64\n",
       "product_weight_g                 float64\n",
       "payment_installments               int64\n",
       "order_purchase_timestamp          object\n",
       "order_delivered_customer_date     object\n",
       "freight_value                    float64\n",
       "customer_state                    object\n",
       "seller_state                      object\n",
       "payment_type                      object\n",
       "dtype: object"
      ]
     },
     "execution_count": 49,
     "metadata": {},
     "output_type": "execute_result"
    }
   ],
   "source": [
    "df.dtypes"
   ]
  },
  {
   "cell_type": "code",
   "execution_count": 50,
   "id": "51617d59",
   "metadata": {},
   "outputs": [],
   "source": [
    "df['order_purchase_timestamp'] = pd.to_datetime(df['order_purchase_timestamp'])"
   ]
  },
  {
   "cell_type": "code",
   "execution_count": 51,
   "id": "338de800",
   "metadata": {},
   "outputs": [],
   "source": [
    "df['order_delivered_customer_date'] = pd.to_datetime(df['order_delivered_customer_date'])"
   ]
  },
  {
   "cell_type": "code",
   "execution_count": 52,
   "id": "e4329ffe",
   "metadata": {},
   "outputs": [
    {
     "data": {
      "text/plain": [
       "order_id                                 object\n",
       "customer_id                              object\n",
       "customer_unique_id                       object\n",
       "seller_id                                object\n",
       "order_status                             object\n",
       "price                                   float64\n",
       "payment_value                           float64\n",
       "product_category_name_english            object\n",
       "product_photos_qty                      float64\n",
       "review_score                              int64\n",
       "product_weight_g                        float64\n",
       "payment_installments                      int64\n",
       "order_purchase_timestamp         datetime64[ns]\n",
       "order_delivered_customer_date    datetime64[ns]\n",
       "freight_value                           float64\n",
       "customer_state                           object\n",
       "seller_state                             object\n",
       "payment_type                             object\n",
       "dtype: object"
      ]
     },
     "execution_count": 52,
     "metadata": {},
     "output_type": "execute_result"
    }
   ],
   "source": [
    "df.dtypes"
   ]
  },
  {
   "cell_type": "code",
   "execution_count": 53,
   "id": "063b7e36",
   "metadata": {},
   "outputs": [],
   "source": [
    "df.to_csv('/Users/rae/Desktop/datasets 2/Brazil/df.csv')"
   ]
  },
  {
   "cell_type": "code",
   "execution_count": 54,
   "id": "39fe1c1c",
   "metadata": {},
   "outputs": [
    {
     "data": {
      "text/plain": [
       "Index(['price', 'payment_value', 'product_photos_qty', 'review_score',\n",
       "       'product_weight_g', 'payment_installments', 'freight_value'],\n",
       "      dtype='object')"
      ]
     },
     "execution_count": 54,
     "metadata": {},
     "output_type": "execute_result"
    }
   ],
   "source": [
    "df_num=df.select_dtypes(include=['float','int']).columns\n",
    "df_num"
   ]
  },
  {
   "cell_type": "code",
   "execution_count": 55,
   "id": "bbcb3ed0",
   "metadata": {},
   "outputs": [],
   "source": [
    "colname = []\n",
    "datatype = []\n",
    "number_records_has_value = []\n",
    "percent_populated = []\n",
    "number_records_has_value0 = []\n",
    "value_median = []\n",
    "value_mean = []\n",
    "value_sd = []\n",
    "value_min = []\n",
    "value_max = []"
   ]
  },
  {
   "cell_type": "code",
   "execution_count": 56,
   "id": "97c9d152",
   "metadata": {},
   "outputs": [],
   "source": [
    "for col in df_num: \n",
    "    colname.append(col)\n",
    "    datatype.append(df[col].dtype)\n",
    "    number_records_has_value.append(df[col].count())\n",
    "    percent_populated.append(round(df[col].count()*100/len(df),2))\n",
    "    number_records_has_value0.append(len(df[df[col]==0]))\n",
    "    value_median.append(round(df[col].median(),2))\n",
    "    value_mean.append(round(df[col].mean(),2))\n",
    "    value_sd.append(round(df[col].std(),2))\n",
    "    value_min.append(round(df[col].min(),2))\n",
    "    value_max.append(round(df[col].max(),2))"
   ]
  },
  {
   "cell_type": "code",
   "execution_count": 57,
   "id": "1c7fc2af",
   "metadata": {
    "scrolled": false
   },
   "outputs": [
    {
     "data": {
      "text/html": [
       "<div>\n",
       "<style scoped>\n",
       "    .dataframe tbody tr th:only-of-type {\n",
       "        vertical-align: middle;\n",
       "    }\n",
       "\n",
       "    .dataframe tbody tr th {\n",
       "        vertical-align: top;\n",
       "    }\n",
       "\n",
       "    .dataframe thead th {\n",
       "        text-align: right;\n",
       "    }\n",
       "</style>\n",
       "<table border=\"1\" class=\"dataframe\">\n",
       "  <thead>\n",
       "    <tr style=\"text-align: right;\">\n",
       "      <th></th>\n",
       "      <th>Field</th>\n",
       "      <th>DataType</th>\n",
       "      <th>NumRec_HasValue</th>\n",
       "      <th>Percent_Populated</th>\n",
       "      <th>NumRec_isZero</th>\n",
       "      <th>Median</th>\n",
       "      <th>Mean</th>\n",
       "      <th>Stand_Dev</th>\n",
       "      <th>Min</th>\n",
       "      <th>Max</th>\n",
       "    </tr>\n",
       "  </thead>\n",
       "  <tbody>\n",
       "    <tr>\n",
       "      <th>0</th>\n",
       "      <td>price</td>\n",
       "      <td>float64</td>\n",
       "      <td>115609</td>\n",
       "      <td>100.0</td>\n",
       "      <td>0</td>\n",
       "      <td>74.90</td>\n",
       "      <td>120.62</td>\n",
       "      <td>182.65</td>\n",
       "      <td>0.85</td>\n",
       "      <td>6735.00</td>\n",
       "    </tr>\n",
       "    <tr>\n",
       "      <th>1</th>\n",
       "      <td>payment_value</td>\n",
       "      <td>float64</td>\n",
       "      <td>115609</td>\n",
       "      <td>100.0</td>\n",
       "      <td>6</td>\n",
       "      <td>108.05</td>\n",
       "      <td>172.39</td>\n",
       "      <td>265.87</td>\n",
       "      <td>0.00</td>\n",
       "      <td>13664.08</td>\n",
       "    </tr>\n",
       "    <tr>\n",
       "      <th>2</th>\n",
       "      <td>product_photos_qty</td>\n",
       "      <td>float64</td>\n",
       "      <td>115609</td>\n",
       "      <td>100.0</td>\n",
       "      <td>0</td>\n",
       "      <td>1.00</td>\n",
       "      <td>2.21</td>\n",
       "      <td>1.72</td>\n",
       "      <td>1.00</td>\n",
       "      <td>20.00</td>\n",
       "    </tr>\n",
       "    <tr>\n",
       "      <th>3</th>\n",
       "      <td>review_score</td>\n",
       "      <td>int64</td>\n",
       "      <td>115609</td>\n",
       "      <td>100.0</td>\n",
       "      <td>0</td>\n",
       "      <td>5.00</td>\n",
       "      <td>4.03</td>\n",
       "      <td>1.39</td>\n",
       "      <td>1.00</td>\n",
       "      <td>5.00</td>\n",
       "    </tr>\n",
       "    <tr>\n",
       "      <th>4</th>\n",
       "      <td>product_weight_g</td>\n",
       "      <td>float64</td>\n",
       "      <td>115608</td>\n",
       "      <td>100.0</td>\n",
       "      <td>8</td>\n",
       "      <td>700.00</td>\n",
       "      <td>2113.91</td>\n",
       "      <td>3781.75</td>\n",
       "      <td>0.00</td>\n",
       "      <td>40425.00</td>\n",
       "    </tr>\n",
       "    <tr>\n",
       "      <th>5</th>\n",
       "      <td>payment_installments</td>\n",
       "      <td>int64</td>\n",
       "      <td>115609</td>\n",
       "      <td>100.0</td>\n",
       "      <td>3</td>\n",
       "      <td>2.00</td>\n",
       "      <td>2.95</td>\n",
       "      <td>2.78</td>\n",
       "      <td>0.00</td>\n",
       "      <td>24.00</td>\n",
       "    </tr>\n",
       "    <tr>\n",
       "      <th>6</th>\n",
       "      <td>freight_value</td>\n",
       "      <td>float64</td>\n",
       "      <td>115609</td>\n",
       "      <td>100.0</td>\n",
       "      <td>387</td>\n",
       "      <td>16.32</td>\n",
       "      <td>20.06</td>\n",
       "      <td>15.84</td>\n",
       "      <td>0.00</td>\n",
       "      <td>409.68</td>\n",
       "    </tr>\n",
       "  </tbody>\n",
       "</table>\n",
       "</div>"
      ],
      "text/plain": [
       "                  Field DataType  NumRec_HasValue  Percent_Populated  \\\n",
       "0                 price  float64           115609              100.0   \n",
       "1         payment_value  float64           115609              100.0   \n",
       "2    product_photos_qty  float64           115609              100.0   \n",
       "3          review_score    int64           115609              100.0   \n",
       "4      product_weight_g  float64           115608              100.0   \n",
       "5  payment_installments    int64           115609              100.0   \n",
       "6         freight_value  float64           115609              100.0   \n",
       "\n",
       "   NumRec_isZero  Median     Mean  Stand_Dev   Min       Max  \n",
       "0              0   74.90   120.62     182.65  0.85   6735.00  \n",
       "1              6  108.05   172.39     265.87  0.00  13664.08  \n",
       "2              0    1.00     2.21       1.72  1.00     20.00  \n",
       "3              0    5.00     4.03       1.39  1.00      5.00  \n",
       "4              8  700.00  2113.91    3781.75  0.00  40425.00  \n",
       "5              3    2.00     2.95       2.78  0.00     24.00  \n",
       "6            387   16.32    20.06      15.84  0.00    409.68  "
      ]
     },
     "execution_count": 57,
     "metadata": {},
     "output_type": "execute_result"
    }
   ],
   "source": [
    "my_dict = {'Field': colname, \n",
    "           'DataType': datatype, \n",
    "        'NumRec_HasValue': number_records_has_value,\n",
    "       'Percent_Populated': percent_populated,\n",
    "       'NumRec_isZero': number_records_has_value0,\n",
    "        'Median': value_median,\n",
    "       'Mean': value_mean,\n",
    "       'Stand_Dev': value_sd,\n",
    "       'Min': value_min,\n",
    "       'Max': value_max}  \n",
    "    \n",
    "sum_df_num = pd.DataFrame(my_dict) \n",
    "\n",
    "sum_df_num "
   ]
  },
  {
   "cell_type": "code",
   "execution_count": 58,
   "id": "2f2abcaf",
   "metadata": {},
   "outputs": [],
   "source": [
    "sum_df_num.to_csv(\"/Users/rae/Desktop/df_num.csv\")"
   ]
  },
  {
   "cell_type": "code",
   "execution_count": 59,
   "id": "ca1b3ed5",
   "metadata": {},
   "outputs": [
    {
     "data": {
      "text/plain": [
       "Index(['order_id', 'customer_id', 'customer_unique_id', 'seller_id',\n",
       "       'order_status', 'product_category_name_english', 'customer_state',\n",
       "       'seller_state', 'payment_type'],\n",
       "      dtype='object')"
      ]
     },
     "execution_count": 59,
     "metadata": {},
     "output_type": "execute_result"
    }
   ],
   "source": [
    "df_cat = df.select_dtypes(include=[\"object\",\"category\"]).columns\n",
    "df_cat"
   ]
  },
  {
   "cell_type": "code",
   "execution_count": 60,
   "id": "37301684",
   "metadata": {},
   "outputs": [],
   "source": [
    "colname = []\n",
    "datatype = []\n",
    "number_records_has_value = []\n",
    "percent_populated = []\n",
    "number_records_has_value0 = []\n",
    "value_unique = []\n",
    "value_mostcommon = []\n",
    "value_leastcommon = []\n",
    "count_mostcommon = []\n",
    "count_leastcommon = []"
   ]
  },
  {
   "cell_type": "code",
   "execution_count": 61,
   "id": "a4c9e971",
   "metadata": {},
   "outputs": [],
   "source": [
    "for col in df_cat: \n",
    "    colname.append(col)\n",
    "    datatype.append(df[col].dtypes)\n",
    "    number_records_has_value.append(df[col].count())\n",
    "    \n",
    "    percent_populated.append(round(df[col].count()*100/len(df),2))\n",
    "    \n",
    "    num_zero = len(df[df[col]==\"\"]) + len(df[df[col]==\"0\"])\n",
    "    number_records_has_value0.append(num_zero)\n",
    "    \n",
    "    value_unique.append(len(df[col].unique()))\n",
    "    \n",
    "    value_mostcommon.append(df[col].value_counts().index.tolist()[0])\n",
    "    value_leastcommon.append(df[col].value_counts().index.tolist()[-1])\n",
    "    \n",
    "    count_mostcommon.append(list(df[col].value_counts())[0])\n",
    "    count_leastcommon.append(list(df[col].value_counts())[-1])\n",
    "    "
   ]
  },
  {
   "cell_type": "code",
   "execution_count": 62,
   "id": "0490bdc1",
   "metadata": {
    "scrolled": false
   },
   "outputs": [
    {
     "data": {
      "text/html": [
       "<div>\n",
       "<style scoped>\n",
       "    .dataframe tbody tr th:only-of-type {\n",
       "        vertical-align: middle;\n",
       "    }\n",
       "\n",
       "    .dataframe tbody tr th {\n",
       "        vertical-align: top;\n",
       "    }\n",
       "\n",
       "    .dataframe thead th {\n",
       "        text-align: right;\n",
       "    }\n",
       "</style>\n",
       "<table border=\"1\" class=\"dataframe\">\n",
       "  <thead>\n",
       "    <tr style=\"text-align: right;\">\n",
       "      <th></th>\n",
       "      <th>Field</th>\n",
       "      <th>DataType</th>\n",
       "      <th>NumRec_HasValue</th>\n",
       "      <th>Percent_Populated</th>\n",
       "      <th>NumRec_isZero</th>\n",
       "      <th>Unique</th>\n",
       "      <th>Most_common</th>\n",
       "      <th>Most_counts</th>\n",
       "      <th>Least_Common</th>\n",
       "      <th>Least_counts</th>\n",
       "    </tr>\n",
       "  </thead>\n",
       "  <tbody>\n",
       "    <tr>\n",
       "      <th>0</th>\n",
       "      <td>order_id</td>\n",
       "      <td>object</td>\n",
       "      <td>115609</td>\n",
       "      <td>100.0</td>\n",
       "      <td>0</td>\n",
       "      <td>96516</td>\n",
       "      <td>895ab968e7bb0d5659d16cd74cd1650c</td>\n",
       "      <td>63</td>\n",
       "      <td>751bac184f225318704b7bbf878bcc52</td>\n",
       "      <td>1</td>\n",
       "    </tr>\n",
       "    <tr>\n",
       "      <th>1</th>\n",
       "      <td>customer_id</td>\n",
       "      <td>object</td>\n",
       "      <td>115609</td>\n",
       "      <td>100.0</td>\n",
       "      <td>0</td>\n",
       "      <td>96516</td>\n",
       "      <td>270c23a11d024a44c896d1894b261a83</td>\n",
       "      <td>63</td>\n",
       "      <td>1fb84b8070e874d735f1b851cd98bdc6</td>\n",
       "      <td>1</td>\n",
       "    </tr>\n",
       "    <tr>\n",
       "      <th>2</th>\n",
       "      <td>customer_unique_id</td>\n",
       "      <td>object</td>\n",
       "      <td>115609</td>\n",
       "      <td>100.0</td>\n",
       "      <td>0</td>\n",
       "      <td>93396</td>\n",
       "      <td>9a736b248f67d166d2fbb006bcb877c3</td>\n",
       "      <td>75</td>\n",
       "      <td>566b65203cc956bb5511e06445ea41c4</td>\n",
       "      <td>1</td>\n",
       "    </tr>\n",
       "    <tr>\n",
       "      <th>3</th>\n",
       "      <td>seller_id</td>\n",
       "      <td>object</td>\n",
       "      <td>115609</td>\n",
       "      <td>100.0</td>\n",
       "      <td>0</td>\n",
       "      <td>3028</td>\n",
       "      <td>4a3ca9315b744ce9f8e9374361493884</td>\n",
       "      <td>2128</td>\n",
       "      <td>b6f52e346160519c24a23af05410ad32</td>\n",
       "      <td>1</td>\n",
       "    </tr>\n",
       "    <tr>\n",
       "      <th>4</th>\n",
       "      <td>order_status</td>\n",
       "      <td>object</td>\n",
       "      <td>115609</td>\n",
       "      <td>100.0</td>\n",
       "      <td>0</td>\n",
       "      <td>7</td>\n",
       "      <td>delivered</td>\n",
       "      <td>113210</td>\n",
       "      <td>approved</td>\n",
       "      <td>3</td>\n",
       "    </tr>\n",
       "    <tr>\n",
       "      <th>5</th>\n",
       "      <td>product_category_name_english</td>\n",
       "      <td>object</td>\n",
       "      <td>115609</td>\n",
       "      <td>100.0</td>\n",
       "      <td>0</td>\n",
       "      <td>71</td>\n",
       "      <td>bed_bath_table</td>\n",
       "      <td>11847</td>\n",
       "      <td>security_and_services</td>\n",
       "      <td>2</td>\n",
       "    </tr>\n",
       "    <tr>\n",
       "      <th>6</th>\n",
       "      <td>customer_state</td>\n",
       "      <td>object</td>\n",
       "      <td>115609</td>\n",
       "      <td>100.0</td>\n",
       "      <td>0</td>\n",
       "      <td>27</td>\n",
       "      <td>SP</td>\n",
       "      <td>48797</td>\n",
       "      <td>RR</td>\n",
       "      <td>50</td>\n",
       "    </tr>\n",
       "    <tr>\n",
       "      <th>7</th>\n",
       "      <td>seller_state</td>\n",
       "      <td>object</td>\n",
       "      <td>115609</td>\n",
       "      <td>100.0</td>\n",
       "      <td>0</td>\n",
       "      <td>23</td>\n",
       "      <td>SP</td>\n",
       "      <td>82417</td>\n",
       "      <td>AC</td>\n",
       "      <td>1</td>\n",
       "    </tr>\n",
       "    <tr>\n",
       "      <th>8</th>\n",
       "      <td>payment_type</td>\n",
       "      <td>object</td>\n",
       "      <td>115609</td>\n",
       "      <td>100.0</td>\n",
       "      <td>0</td>\n",
       "      <td>4</td>\n",
       "      <td>credit_card</td>\n",
       "      <td>85278</td>\n",
       "      <td>debit_card</td>\n",
       "      <td>1659</td>\n",
       "    </tr>\n",
       "  </tbody>\n",
       "</table>\n",
       "</div>"
      ],
      "text/plain": [
       "                           Field DataType  NumRec_HasValue  Percent_Populated  \\\n",
       "0                       order_id   object           115609              100.0   \n",
       "1                    customer_id   object           115609              100.0   \n",
       "2             customer_unique_id   object           115609              100.0   \n",
       "3                      seller_id   object           115609              100.0   \n",
       "4                   order_status   object           115609              100.0   \n",
       "5  product_category_name_english   object           115609              100.0   \n",
       "6                 customer_state   object           115609              100.0   \n",
       "7                   seller_state   object           115609              100.0   \n",
       "8                   payment_type   object           115609              100.0   \n",
       "\n",
       "   NumRec_isZero  Unique                       Most_common  Most_counts  \\\n",
       "0              0   96516  895ab968e7bb0d5659d16cd74cd1650c           63   \n",
       "1              0   96516  270c23a11d024a44c896d1894b261a83           63   \n",
       "2              0   93396  9a736b248f67d166d2fbb006bcb877c3           75   \n",
       "3              0    3028  4a3ca9315b744ce9f8e9374361493884         2128   \n",
       "4              0       7                         delivered       113210   \n",
       "5              0      71                    bed_bath_table        11847   \n",
       "6              0      27                                SP        48797   \n",
       "7              0      23                                SP        82417   \n",
       "8              0       4                       credit_card        85278   \n",
       "\n",
       "                       Least_Common  Least_counts  \n",
       "0  751bac184f225318704b7bbf878bcc52             1  \n",
       "1  1fb84b8070e874d735f1b851cd98bdc6             1  \n",
       "2  566b65203cc956bb5511e06445ea41c4             1  \n",
       "3  b6f52e346160519c24a23af05410ad32             1  \n",
       "4                          approved             3  \n",
       "5             security_and_services             2  \n",
       "6                                RR            50  \n",
       "7                                AC             1  \n",
       "8                        debit_card          1659  "
      ]
     },
     "execution_count": 62,
     "metadata": {},
     "output_type": "execute_result"
    }
   ],
   "source": [
    "my_dict = {'Field': colname, 'DataType': datatype, \n",
    "        'NumRec_HasValue': number_records_has_value,\n",
    "       'Percent_Populated': percent_populated,\n",
    "       'NumRec_isZero': number_records_has_value0,\n",
    "       'Unique': value_unique,\n",
    "       'Most_common': value_mostcommon,\n",
    "       'Most_counts': count_mostcommon,\n",
    "       'Least_Common': value_leastcommon,\n",
    "       'Least_counts': count_leastcommon\n",
    "       }  \n",
    "    \n",
    "sum_df_cat = pd.DataFrame(my_dict) \n",
    "\n",
    "sum_df_cat"
   ]
  },
  {
   "cell_type": "code",
   "execution_count": 63,
   "id": "da892caa",
   "metadata": {},
   "outputs": [],
   "source": [
    "sum_df_cat.to_csv(\"/Users/rae/Desktop/sum_df_cat.csv\")"
   ]
  },
  {
   "cell_type": "code",
   "execution_count": 64,
   "id": "460b925b",
   "metadata": {},
   "outputs": [],
   "source": [
    "df2=df[['price','review_score','product_photos_qty']].copy()"
   ]
  },
  {
   "cell_type": "code",
   "execution_count": 65,
   "id": "17f43baa",
   "metadata": {},
   "outputs": [],
   "source": [
    "df2['price']=df2['price'].apply(lambda x: True if x>100 else False)"
   ]
  },
  {
   "cell_type": "code",
   "execution_count": 66,
   "id": "6a2b5b8b",
   "metadata": {},
   "outputs": [
    {
     "data": {
      "text/plain": [
       "<seaborn.axisgrid.FacetGrid at 0x7fe6e5555d00>"
      ]
     },
     "execution_count": 66,
     "metadata": {},
     "output_type": "execute_result"
    },
    {
     "data": {
      "image/png": "[encoded data removed]",
      "text/plain": [
       "<Figure size 720x360 with 2 Axes>"
      ]
     },
     "metadata": {},
     "output_type": "display_data"
    }
   ],
   "source": [
    "sns.catplot(data=df2,x='review_score',kind='count',col='price')"
   ]
  },
  {
   "cell_type": "code",
   "execution_count": 67,
   "id": "cf1d550c",
   "metadata": {},
   "outputs": [
    {
     "data": {
      "image/png": "[encoded data removed]",
      "text/plain": [
       "<Figure size 720x3600 with 19 Axes>"
      ]
     },
     "metadata": {},
     "output_type": "display_data"
    }
   ],
   "source": [
    "phonto_review=sns.catplot(data=df2,x='review_score',kind='count',col='product_photos_qty',col_wrap=2)"
   ]
  },
  {
   "cell_type": "code",
   "execution_count": 68,
   "id": "bb5d7fd0",
   "metadata": {},
   "outputs": [],
   "source": [
    "phonto_review.savefig(\"/Users/rae/Desktop/phonto_review\")"
   ]
  },
  {
   "cell_type": "code",
   "execution_count": null,
   "id": "49439b42",
   "metadata": {},
   "outputs": [],
   "source": []
  },
  {
   "cell_type": "code",
   "execution_count": 69,
   "id": "af550d52",
   "metadata": {},
   "outputs": [],
   "source": [
    "s_group=df.groupby('seller_state')\n",
    "s_g=s_group.agg({'seller_id':'count'}).rename(columns={'seller_id':'s_count'}\n",
    "                                ).sort_values('s_count',ascending=False).reset_index()"
   ]
  },
  {
   "cell_type": "code",
   "execution_count": 70,
   "id": "9dae7a0c",
   "metadata": {},
   "outputs": [
    {
     "data": {
      "text/html": [
       "<div>\n",
       "<style scoped>\n",
       "    .dataframe tbody tr th:only-of-type {\n",
       "        vertical-align: middle;\n",
       "    }\n",
       "\n",
       "    .dataframe tbody tr th {\n",
       "        vertical-align: top;\n",
       "    }\n",
       "\n",
       "    .dataframe thead th {\n",
       "        text-align: right;\n",
       "    }\n",
       "</style>\n",
       "<table border=\"1\" class=\"dataframe\">\n",
       "  <thead>\n",
       "    <tr style=\"text-align: right;\">\n",
       "      <th></th>\n",
       "      <th>seller_state</th>\n",
       "      <th>s_count</th>\n",
       "    </tr>\n",
       "  </thead>\n",
       "  <tbody>\n",
       "    <tr>\n",
       "      <th>0</th>\n",
       "      <td>SP</td>\n",
       "      <td>82417</td>\n",
       "    </tr>\n",
       "    <tr>\n",
       "      <th>1</th>\n",
       "      <td>MG</td>\n",
       "      <td>9014</td>\n",
       "    </tr>\n",
       "    <tr>\n",
       "      <th>2</th>\n",
       "      <td>PR</td>\n",
       "      <td>8964</td>\n",
       "    </tr>\n",
       "    <tr>\n",
       "      <th>3</th>\n",
       "      <td>RJ</td>\n",
       "      <td>4906</td>\n",
       "    </tr>\n",
       "    <tr>\n",
       "      <th>4</th>\n",
       "      <td>SC</td>\n",
       "      <td>4221</td>\n",
       "    </tr>\n",
       "  </tbody>\n",
       "</table>\n",
       "</div>"
      ],
      "text/plain": [
       "  seller_state  s_count\n",
       "0           SP    82417\n",
       "1           MG     9014\n",
       "2           PR     8964\n",
       "3           RJ     4906\n",
       "4           SC     4221"
      ]
     },
     "execution_count": 70,
     "metadata": {},
     "output_type": "execute_result"
    }
   ],
   "source": [
    "s_g.head()"
   ]
  },
  {
   "cell_type": "code",
   "execution_count": 71,
   "id": "ca2218af",
   "metadata": {},
   "outputs": [
    {
     "data": {
      "image/png": "[encoded data removed]",
      "text/plain": [
       "<Figure size 432x288 with 1 Axes>"
      ]
     },
     "metadata": {},
     "output_type": "display_data"
    }
   ],
   "source": [
    "plt.pie(x=s_g['s_count'],labels=s_g['seller_state'],radius=2,autopct='%1.1f%%',textprops={'fontsize':15})\n",
    "plt.show()"
   ]
  },
  {
   "cell_type": "code",
   "execution_count": 72,
   "id": "adb527d5",
   "metadata": {},
   "outputs": [
    {
     "data": {
      "text/html": [
       "<div>\n",
       "<style scoped>\n",
       "    .dataframe tbody tr th:only-of-type {\n",
       "        vertical-align: middle;\n",
       "    }\n",
       "\n",
       "    .dataframe tbody tr th {\n",
       "        vertical-align: top;\n",
       "    }\n",
       "\n",
       "    .dataframe thead th {\n",
       "        text-align: right;\n",
       "    }\n",
       "</style>\n",
       "<table border=\"1\" class=\"dataframe\">\n",
       "  <thead>\n",
       "    <tr style=\"text-align: right;\">\n",
       "      <th></th>\n",
       "      <th>customer_state</th>\n",
       "      <th>c_count</th>\n",
       "    </tr>\n",
       "  </thead>\n",
       "  <tbody>\n",
       "    <tr>\n",
       "      <th>0</th>\n",
       "      <td>SP</td>\n",
       "      <td>48797</td>\n",
       "    </tr>\n",
       "    <tr>\n",
       "      <th>1</th>\n",
       "      <td>RJ</td>\n",
       "      <td>14987</td>\n",
       "    </tr>\n",
       "    <tr>\n",
       "      <th>2</th>\n",
       "      <td>MG</td>\n",
       "      <td>13429</td>\n",
       "    </tr>\n",
       "    <tr>\n",
       "      <th>3</th>\n",
       "      <td>RS</td>\n",
       "      <td>6413</td>\n",
       "    </tr>\n",
       "    <tr>\n",
       "      <th>4</th>\n",
       "      <td>PR</td>\n",
       "      <td>5879</td>\n",
       "    </tr>\n",
       "  </tbody>\n",
       "</table>\n",
       "</div>"
      ],
      "text/plain": [
       "  customer_state  c_count\n",
       "0             SP    48797\n",
       "1             RJ    14987\n",
       "2             MG    13429\n",
       "3             RS     6413\n",
       "4             PR     5879"
      ]
     },
     "execution_count": 72,
     "metadata": {},
     "output_type": "execute_result"
    }
   ],
   "source": [
    "c_group=df.groupby('customer_state')\n",
    "c_g=c_group.agg({'customer_id':'count'}).rename(columns={'customer_id':'c_count'}\n",
    "                                ).sort_values('c_count',ascending=False).reset_index()\n",
    "c_g.head()"
   ]
  },
  {
   "cell_type": "code",
   "execution_count": 73,
   "id": "a653b30a",
   "metadata": {},
   "outputs": [
    {
     "data": {
      "image/png": "[encoded data removed]",
      "text/plain": [
       "<Figure size 432x288 with 1 Axes>"
      ]
     },
     "metadata": {},
     "output_type": "display_data"
    }
   ],
   "source": [
    "plt.pie(x=c_g['c_count'],labels=c_g['customer_state'],radius=2,autopct='%1.1f%%',textprops={'fontsize':15})\n",
    "plt.show()"
   ]
  },
  {
   "cell_type": "code",
   "execution_count": 74,
   "id": "072638d9",
   "metadata": {
    "scrolled": false
   },
   "outputs": [
    {
     "data": {
      "text/html": [
       "<div>\n",
       "<style scoped>\n",
       "    .dataframe tbody tr th:only-of-type {\n",
       "        vertical-align: middle;\n",
       "    }\n",
       "\n",
       "    .dataframe tbody tr th {\n",
       "        vertical-align: top;\n",
       "    }\n",
       "\n",
       "    .dataframe thead th {\n",
       "        text-align: right;\n",
       "    }\n",
       "</style>\n",
       "<table border=\"1\" class=\"dataframe\">\n",
       "  <thead>\n",
       "    <tr style=\"text-align: right;\">\n",
       "      <th></th>\n",
       "      <th>0</th>\n",
       "      <th>1</th>\n",
       "      <th>2</th>\n",
       "      <th>3</th>\n",
       "      <th>4</th>\n",
       "    </tr>\n",
       "  </thead>\n",
       "  <tbody>\n",
       "    <tr>\n",
       "      <th>order_id</th>\n",
       "      <td>e481f51cbdc54678b7cc49136f2d6af7</td>\n",
       "      <td>e481f51cbdc54678b7cc49136f2d6af7</td>\n",
       "      <td>e481f51cbdc54678b7cc49136f2d6af7</td>\n",
       "      <td>128e10d95713541c87cd1a2e48201934</td>\n",
       "      <td>0e7e841ddf8f8f2de2bad69267ecfbcf</td>\n",
       "    </tr>\n",
       "    <tr>\n",
       "      <th>customer_id</th>\n",
       "      <td>9ef432eb6251297304e76186b10a928d</td>\n",
       "      <td>9ef432eb6251297304e76186b10a928d</td>\n",
       "      <td>9ef432eb6251297304e76186b10a928d</td>\n",
       "      <td>a20e8105f23924cd00833fd87daa0831</td>\n",
       "      <td>26c7ac168e1433912a51b924fbd34d34</td>\n",
       "    </tr>\n",
       "    <tr>\n",
       "      <th>customer_unique_id</th>\n",
       "      <td>7c396fd4830fd04220f754e42b4e5bff</td>\n",
       "      <td>7c396fd4830fd04220f754e42b4e5bff</td>\n",
       "      <td>7c396fd4830fd04220f754e42b4e5bff</td>\n",
       "      <td>3a51803cc0d012c3b5dc8b7528cb05f7</td>\n",
       "      <td>ef0996a1a279c26e7ecbd737be23d235</td>\n",
       "    </tr>\n",
       "    <tr>\n",
       "      <th>seller_id</th>\n",
       "      <td>3504c0cb71d7fa48d967e0e4c94d59d9</td>\n",
       "      <td>3504c0cb71d7fa48d967e0e4c94d59d9</td>\n",
       "      <td>3504c0cb71d7fa48d967e0e4c94d59d9</td>\n",
       "      <td>3504c0cb71d7fa48d967e0e4c94d59d9</td>\n",
       "      <td>3504c0cb71d7fa48d967e0e4c94d59d9</td>\n",
       "    </tr>\n",
       "    <tr>\n",
       "      <th>order_status</th>\n",
       "      <td>delivered</td>\n",
       "      <td>delivered</td>\n",
       "      <td>delivered</td>\n",
       "      <td>delivered</td>\n",
       "      <td>delivered</td>\n",
       "    </tr>\n",
       "    <tr>\n",
       "      <th>price</th>\n",
       "      <td>29.99</td>\n",
       "      <td>29.99</td>\n",
       "      <td>29.99</td>\n",
       "      <td>29.99</td>\n",
       "      <td>29.99</td>\n",
       "    </tr>\n",
       "    <tr>\n",
       "      <th>payment_value</th>\n",
       "      <td>18.12</td>\n",
       "      <td>2.0</td>\n",
       "      <td>18.59</td>\n",
       "      <td>37.77</td>\n",
       "      <td>37.77</td>\n",
       "    </tr>\n",
       "    <tr>\n",
       "      <th>product_category_name_english</th>\n",
       "      <td>housewares</td>\n",
       "      <td>housewares</td>\n",
       "      <td>housewares</td>\n",
       "      <td>housewares</td>\n",
       "      <td>housewares</td>\n",
       "    </tr>\n",
       "    <tr>\n",
       "      <th>product_photos_qty</th>\n",
       "      <td>4.0</td>\n",
       "      <td>4.0</td>\n",
       "      <td>4.0</td>\n",
       "      <td>4.0</td>\n",
       "      <td>4.0</td>\n",
       "    </tr>\n",
       "    <tr>\n",
       "      <th>review_score</th>\n",
       "      <td>4</td>\n",
       "      <td>4</td>\n",
       "      <td>4</td>\n",
       "      <td>4</td>\n",
       "      <td>5</td>\n",
       "    </tr>\n",
       "    <tr>\n",
       "      <th>product_weight_g</th>\n",
       "      <td>500.0</td>\n",
       "      <td>500.0</td>\n",
       "      <td>500.0</td>\n",
       "      <td>500.0</td>\n",
       "      <td>500.0</td>\n",
       "    </tr>\n",
       "    <tr>\n",
       "      <th>payment_installments</th>\n",
       "      <td>1</td>\n",
       "      <td>1</td>\n",
       "      <td>1</td>\n",
       "      <td>3</td>\n",
       "      <td>1</td>\n",
       "    </tr>\n",
       "    <tr>\n",
       "      <th>order_purchase_timestamp</th>\n",
       "      <td>2017-10-02 10:56:33</td>\n",
       "      <td>2017-10-02 10:56:33</td>\n",
       "      <td>2017-10-02 10:56:33</td>\n",
       "      <td>2017-08-15 18:29:31</td>\n",
       "      <td>2017-08-02 18:24:47</td>\n",
       "    </tr>\n",
       "    <tr>\n",
       "      <th>order_delivered_customer_date</th>\n",
       "      <td>2017-10-10 21:25:13</td>\n",
       "      <td>2017-10-10 21:25:13</td>\n",
       "      <td>2017-10-10 21:25:13</td>\n",
       "      <td>2017-08-18 14:44:43</td>\n",
       "      <td>2017-08-07 18:30:01</td>\n",
       "    </tr>\n",
       "    <tr>\n",
       "      <th>freight_value</th>\n",
       "      <td>8.72</td>\n",
       "      <td>8.72</td>\n",
       "      <td>8.72</td>\n",
       "      <td>7.78</td>\n",
       "      <td>7.78</td>\n",
       "    </tr>\n",
       "    <tr>\n",
       "      <th>customer_state</th>\n",
       "      <td>SP</td>\n",
       "      <td>SP</td>\n",
       "      <td>SP</td>\n",
       "      <td>SP</td>\n",
       "      <td>SP</td>\n",
       "    </tr>\n",
       "    <tr>\n",
       "      <th>seller_state</th>\n",
       "      <td>SP</td>\n",
       "      <td>SP</td>\n",
       "      <td>SP</td>\n",
       "      <td>SP</td>\n",
       "      <td>SP</td>\n",
       "    </tr>\n",
       "    <tr>\n",
       "      <th>payment_type</th>\n",
       "      <td>credit_card</td>\n",
       "      <td>voucher</td>\n",
       "      <td>voucher</td>\n",
       "      <td>credit_card</td>\n",
       "      <td>credit_card</td>\n",
       "    </tr>\n",
       "  </tbody>\n",
       "</table>\n",
       "</div>"
      ],
      "text/plain": [
       "                                                              0  \\\n",
       "order_id                       e481f51cbdc54678b7cc49136f2d6af7   \n",
       "customer_id                    9ef432eb6251297304e76186b10a928d   \n",
       "customer_unique_id             7c396fd4830fd04220f754e42b4e5bff   \n",
       "seller_id                      3504c0cb71d7fa48d967e0e4c94d59d9   \n",
       "order_status                                          delivered   \n",
       "price                                                     29.99   \n",
       "payment_value                                             18.12   \n",
       "product_category_name_english                        housewares   \n",
       "product_photos_qty                                          4.0   \n",
       "review_score                                                  4   \n",
       "product_weight_g                                          500.0   \n",
       "payment_installments                                          1   \n",
       "order_purchase_timestamp                    2017-10-02 10:56:33   \n",
       "order_delivered_customer_date               2017-10-10 21:25:13   \n",
       "freight_value                                              8.72   \n",
       "customer_state                                               SP   \n",
       "seller_state                                                 SP   \n",
       "payment_type                                        credit_card   \n",
       "\n",
       "                                                              1  \\\n",
       "order_id                       e481f51cbdc54678b7cc49136f2d6af7   \n",
       "customer_id                    9ef432eb6251297304e76186b10a928d   \n",
       "customer_unique_id             7c396fd4830fd04220f754e42b4e5bff   \n",
       "seller_id                      3504c0cb71d7fa48d967e0e4c94d59d9   \n",
       "order_status                                          delivered   \n",
       "price                                                     29.99   \n",
       "payment_value                                               2.0   \n",
       "product_category_name_english                        housewares   \n",
       "product_photos_qty                                          4.0   \n",
       "review_score                                                  4   \n",
       "product_weight_g                                          500.0   \n",
       "payment_installments                                          1   \n",
       "order_purchase_timestamp                    2017-10-02 10:56:33   \n",
       "order_delivered_customer_date               2017-10-10 21:25:13   \n",
       "freight_value                                              8.72   \n",
       "customer_state                                               SP   \n",
       "seller_state                                                 SP   \n",
       "payment_type                                            voucher   \n",
       "\n",
       "                                                              2  \\\n",
       "order_id                       e481f51cbdc54678b7cc49136f2d6af7   \n",
       "customer_id                    9ef432eb6251297304e76186b10a928d   \n",
       "customer_unique_id             7c396fd4830fd04220f754e42b4e5bff   \n",
       "seller_id                      3504c0cb71d7fa48d967e0e4c94d59d9   \n",
       "order_status                                          delivered   \n",
       "price                                                     29.99   \n",
       "payment_value                                             18.59   \n",
       "product_category_name_english                        housewares   \n",
       "product_photos_qty                                          4.0   \n",
       "review_score                                                  4   \n",
       "product_weight_g                                          500.0   \n",
       "payment_installments                                          1   \n",
       "order_purchase_timestamp                    2017-10-02 10:56:33   \n",
       "order_delivered_customer_date               2017-10-10 21:25:13   \n",
       "freight_value                                              8.72   \n",
       "customer_state                                               SP   \n",
       "seller_state                                                 SP   \n",
       "payment_type                                            voucher   \n",
       "\n",
       "                                                              3  \\\n",
       "order_id                       128e10d95713541c87cd1a2e48201934   \n",
       "customer_id                    a20e8105f23924cd00833fd87daa0831   \n",
       "customer_unique_id             3a51803cc0d012c3b5dc8b7528cb05f7   \n",
       "seller_id                      3504c0cb71d7fa48d967e0e4c94d59d9   \n",
       "order_status                                          delivered   \n",
       "price                                                     29.99   \n",
       "payment_value                                             37.77   \n",
       "product_category_name_english                        housewares   \n",
       "product_photos_qty                                          4.0   \n",
       "review_score                                                  4   \n",
       "product_weight_g                                          500.0   \n",
       "payment_installments                                          3   \n",
       "order_purchase_timestamp                    2017-08-15 18:29:31   \n",
       "order_delivered_customer_date               2017-08-18 14:44:43   \n",
       "freight_value                                              7.78   \n",
       "customer_state                                               SP   \n",
       "seller_state                                                 SP   \n",
       "payment_type                                        credit_card   \n",
       "\n",
       "                                                              4  \n",
       "order_id                       0e7e841ddf8f8f2de2bad69267ecfbcf  \n",
       "customer_id                    26c7ac168e1433912a51b924fbd34d34  \n",
       "customer_unique_id             ef0996a1a279c26e7ecbd737be23d235  \n",
       "seller_id                      3504c0cb71d7fa48d967e0e4c94d59d9  \n",
       "order_status                                          delivered  \n",
       "price                                                     29.99  \n",
       "payment_value                                             37.77  \n",
       "product_category_name_english                        housewares  \n",
       "product_photos_qty                                          4.0  \n",
       "review_score                                                  5  \n",
       "product_weight_g                                          500.0  \n",
       "payment_installments                                          1  \n",
       "order_purchase_timestamp                    2017-08-02 18:24:47  \n",
       "order_delivered_customer_date               2017-08-07 18:30:01  \n",
       "freight_value                                              7.78  \n",
       "customer_state                                               SP  \n",
       "seller_state                                                 SP  \n",
       "payment_type                                        credit_card  "
      ]
     },
     "execution_count": 74,
     "metadata": {},
     "output_type": "execute_result"
    }
   ],
   "source": [
    "df.head().T"
   ]
  },
  {
   "cell_type": "code",
   "execution_count": 75,
   "id": "ef6822bd",
   "metadata": {},
   "outputs": [],
   "source": [
    "import datetime as dt"
   ]
  },
  {
   "cell_type": "code",
   "execution_count": 76,
   "id": "2ca60009",
   "metadata": {},
   "outputs": [
    {
     "data": {
      "text/plain": [
       "order_id                                 object\n",
       "customer_id                              object\n",
       "customer_unique_id                       object\n",
       "seller_id                                object\n",
       "order_status                             object\n",
       "price                                   float64\n",
       "payment_value                           float64\n",
       "product_category_name_english            object\n",
       "product_photos_qty                      float64\n",
       "review_score                              int64\n",
       "product_weight_g                        float64\n",
       "payment_installments                      int64\n",
       "order_purchase_timestamp         datetime64[ns]\n",
       "order_delivered_customer_date    datetime64[ns]\n",
       "freight_value                           float64\n",
       "customer_state                           object\n",
       "seller_state                             object\n",
       "payment_type                             object\n",
       "dtype: object"
      ]
     },
     "execution_count": 76,
     "metadata": {},
     "output_type": "execute_result"
    }
   ],
   "source": [
    "df.dtypes"
   ]
  },
  {
   "cell_type": "code",
   "execution_count": 77,
   "id": "97c28e5f",
   "metadata": {},
   "outputs": [],
   "source": [
    "df['order_purchase_timestamp']=pd.to_datetime(df['order_purchase_timestamp'])\n",
    "df['order_delivered_customer_date']=pd.to_datetime(df['order_delivered_customer_date'])"
   ]
  },
  {
   "cell_type": "code",
   "execution_count": 78,
   "id": "7e635819",
   "metadata": {},
   "outputs": [],
   "source": [
    "df['time_diff'] = df['order_delivered_customer_date'] - df['order_purchase_timestamp']"
   ]
  },
  {
   "cell_type": "code",
   "execution_count": 79,
   "id": "2e1d3b5f",
   "metadata": {
    "scrolled": true
   },
   "outputs": [
    {
     "data": {
      "text/html": [
       "<div>\n",
       "<style scoped>\n",
       "    .dataframe tbody tr th:only-of-type {\n",
       "        vertical-align: middle;\n",
       "    }\n",
       "\n",
       "    .dataframe tbody tr th {\n",
       "        vertical-align: top;\n",
       "    }\n",
       "\n",
       "    .dataframe thead th {\n",
       "        text-align: right;\n",
       "    }\n",
       "</style>\n",
       "<table border=\"1\" class=\"dataframe\">\n",
       "  <thead>\n",
       "    <tr style=\"text-align: right;\">\n",
       "      <th></th>\n",
       "      <th>0</th>\n",
       "      <th>1</th>\n",
       "      <th>2</th>\n",
       "      <th>3</th>\n",
       "      <th>4</th>\n",
       "    </tr>\n",
       "  </thead>\n",
       "  <tbody>\n",
       "    <tr>\n",
       "      <th>order_id</th>\n",
       "      <td>e481f51cbdc54678b7cc49136f2d6af7</td>\n",
       "      <td>e481f51cbdc54678b7cc49136f2d6af7</td>\n",
       "      <td>e481f51cbdc54678b7cc49136f2d6af7</td>\n",
       "      <td>128e10d95713541c87cd1a2e48201934</td>\n",
       "      <td>0e7e841ddf8f8f2de2bad69267ecfbcf</td>\n",
       "    </tr>\n",
       "    <tr>\n",
       "      <th>customer_id</th>\n",
       "      <td>9ef432eb6251297304e76186b10a928d</td>\n",
       "      <td>9ef432eb6251297304e76186b10a928d</td>\n",
       "      <td>9ef432eb6251297304e76186b10a928d</td>\n",
       "      <td>a20e8105f23924cd00833fd87daa0831</td>\n",
       "      <td>26c7ac168e1433912a51b924fbd34d34</td>\n",
       "    </tr>\n",
       "    <tr>\n",
       "      <th>customer_unique_id</th>\n",
       "      <td>7c396fd4830fd04220f754e42b4e5bff</td>\n",
       "      <td>7c396fd4830fd04220f754e42b4e5bff</td>\n",
       "      <td>7c396fd4830fd04220f754e42b4e5bff</td>\n",
       "      <td>3a51803cc0d012c3b5dc8b7528cb05f7</td>\n",
       "      <td>ef0996a1a279c26e7ecbd737be23d235</td>\n",
       "    </tr>\n",
       "    <tr>\n",
       "      <th>seller_id</th>\n",
       "      <td>3504c0cb71d7fa48d967e0e4c94d59d9</td>\n",
       "      <td>3504c0cb71d7fa48d967e0e4c94d59d9</td>\n",
       "      <td>3504c0cb71d7fa48d967e0e4c94d59d9</td>\n",
       "      <td>3504c0cb71d7fa48d967e0e4c94d59d9</td>\n",
       "      <td>3504c0cb71d7fa48d967e0e4c94d59d9</td>\n",
       "    </tr>\n",
       "    <tr>\n",
       "      <th>order_status</th>\n",
       "      <td>delivered</td>\n",
       "      <td>delivered</td>\n",
       "      <td>delivered</td>\n",
       "      <td>delivered</td>\n",
       "      <td>delivered</td>\n",
       "    </tr>\n",
       "    <tr>\n",
       "      <th>price</th>\n",
       "      <td>29.99</td>\n",
       "      <td>29.99</td>\n",
       "      <td>29.99</td>\n",
       "      <td>29.99</td>\n",
       "      <td>29.99</td>\n",
       "    </tr>\n",
       "    <tr>\n",
       "      <th>payment_value</th>\n",
       "      <td>18.12</td>\n",
       "      <td>2.0</td>\n",
       "      <td>18.59</td>\n",
       "      <td>37.77</td>\n",
       "      <td>37.77</td>\n",
       "    </tr>\n",
       "    <tr>\n",
       "      <th>product_category_name_english</th>\n",
       "      <td>housewares</td>\n",
       "      <td>housewares</td>\n",
       "      <td>housewares</td>\n",
       "      <td>housewares</td>\n",
       "      <td>housewares</td>\n",
       "    </tr>\n",
       "    <tr>\n",
       "      <th>product_photos_qty</th>\n",
       "      <td>4.0</td>\n",
       "      <td>4.0</td>\n",
       "      <td>4.0</td>\n",
       "      <td>4.0</td>\n",
       "      <td>4.0</td>\n",
       "    </tr>\n",
       "    <tr>\n",
       "      <th>review_score</th>\n",
       "      <td>4</td>\n",
       "      <td>4</td>\n",
       "      <td>4</td>\n",
       "      <td>4</td>\n",
       "      <td>5</td>\n",
       "    </tr>\n",
       "    <tr>\n",
       "      <th>product_weight_g</th>\n",
       "      <td>500.0</td>\n",
       "      <td>500.0</td>\n",
       "      <td>500.0</td>\n",
       "      <td>500.0</td>\n",
       "      <td>500.0</td>\n",
       "    </tr>\n",
       "    <tr>\n",
       "      <th>payment_installments</th>\n",
       "      <td>1</td>\n",
       "      <td>1</td>\n",
       "      <td>1</td>\n",
       "      <td>3</td>\n",
       "      <td>1</td>\n",
       "    </tr>\n",
       "    <tr>\n",
       "      <th>order_purchase_timestamp</th>\n",
       "      <td>2017-10-02 10:56:33</td>\n",
       "      <td>2017-10-02 10:56:33</td>\n",
       "      <td>2017-10-02 10:56:33</td>\n",
       "      <td>2017-08-15 18:29:31</td>\n",
       "      <td>2017-08-02 18:24:47</td>\n",
       "    </tr>\n",
       "    <tr>\n",
       "      <th>order_delivered_customer_date</th>\n",
       "      <td>2017-10-10 21:25:13</td>\n",
       "      <td>2017-10-10 21:25:13</td>\n",
       "      <td>2017-10-10 21:25:13</td>\n",
       "      <td>2017-08-18 14:44:43</td>\n",
       "      <td>2017-08-07 18:30:01</td>\n",
       "    </tr>\n",
       "    <tr>\n",
       "      <th>freight_value</th>\n",
       "      <td>8.72</td>\n",
       "      <td>8.72</td>\n",
       "      <td>8.72</td>\n",
       "      <td>7.78</td>\n",
       "      <td>7.78</td>\n",
       "    </tr>\n",
       "    <tr>\n",
       "      <th>customer_state</th>\n",
       "      <td>SP</td>\n",
       "      <td>SP</td>\n",
       "      <td>SP</td>\n",
       "      <td>SP</td>\n",
       "      <td>SP</td>\n",
       "    </tr>\n",
       "    <tr>\n",
       "      <th>seller_state</th>\n",
       "      <td>SP</td>\n",
       "      <td>SP</td>\n",
       "      <td>SP</td>\n",
       "      <td>SP</td>\n",
       "      <td>SP</td>\n",
       "    </tr>\n",
       "    <tr>\n",
       "      <th>payment_type</th>\n",
       "      <td>credit_card</td>\n",
       "      <td>voucher</td>\n",
       "      <td>voucher</td>\n",
       "      <td>credit_card</td>\n",
       "      <td>credit_card</td>\n",
       "    </tr>\n",
       "    <tr>\n",
       "      <th>time_diff</th>\n",
       "      <td>8 days 10:28:40</td>\n",
       "      <td>8 days 10:28:40</td>\n",
       "      <td>8 days 10:28:40</td>\n",
       "      <td>2 days 20:15:12</td>\n",
       "      <td>5 days 00:05:14</td>\n",
       "    </tr>\n",
       "  </tbody>\n",
       "</table>\n",
       "</div>"
      ],
      "text/plain": [
       "                                                              0  \\\n",
       "order_id                       e481f51cbdc54678b7cc49136f2d6af7   \n",
       "customer_id                    9ef432eb6251297304e76186b10a928d   \n",
       "customer_unique_id             7c396fd4830fd04220f754e42b4e5bff   \n",
       "seller_id                      3504c0cb71d7fa48d967e0e4c94d59d9   \n",
       "order_status                                          delivered   \n",
       "price                                                     29.99   \n",
       "payment_value                                             18.12   \n",
       "product_category_name_english                        housewares   \n",
       "product_photos_qty                                          4.0   \n",
       "review_score                                                  4   \n",
       "product_weight_g                                          500.0   \n",
       "payment_installments                                          1   \n",
       "order_purchase_timestamp                    2017-10-02 10:56:33   \n",
       "order_delivered_customer_date               2017-10-10 21:25:13   \n",
       "freight_value                                              8.72   \n",
       "customer_state                                               SP   \n",
       "seller_state                                                 SP   \n",
       "payment_type                                        credit_card   \n",
       "time_diff                                       8 days 10:28:40   \n",
       "\n",
       "                                                              1  \\\n",
       "order_id                       e481f51cbdc54678b7cc49136f2d6af7   \n",
       "customer_id                    9ef432eb6251297304e76186b10a928d   \n",
       "customer_unique_id             7c396fd4830fd04220f754e42b4e5bff   \n",
       "seller_id                      3504c0cb71d7fa48d967e0e4c94d59d9   \n",
       "order_status                                          delivered   \n",
       "price                                                     29.99   \n",
       "payment_value                                               2.0   \n",
       "product_category_name_english                        housewares   \n",
       "product_photos_qty                                          4.0   \n",
       "review_score                                                  4   \n",
       "product_weight_g                                          500.0   \n",
       "payment_installments                                          1   \n",
       "order_purchase_timestamp                    2017-10-02 10:56:33   \n",
       "order_delivered_customer_date               2017-10-10 21:25:13   \n",
       "freight_value                                              8.72   \n",
       "customer_state                                               SP   \n",
       "seller_state                                                 SP   \n",
       "payment_type                                            voucher   \n",
       "time_diff                                       8 days 10:28:40   \n",
       "\n",
       "                                                              2  \\\n",
       "order_id                       e481f51cbdc54678b7cc49136f2d6af7   \n",
       "customer_id                    9ef432eb6251297304e76186b10a928d   \n",
       "customer_unique_id             7c396fd4830fd04220f754e42b4e5bff   \n",
       "seller_id                      3504c0cb71d7fa48d967e0e4c94d59d9   \n",
       "order_status                                          delivered   \n",
       "price                                                     29.99   \n",
       "payment_value                                             18.59   \n",
       "product_category_name_english                        housewares   \n",
       "product_photos_qty                                          4.0   \n",
       "review_score                                                  4   \n",
       "product_weight_g                                          500.0   \n",
       "payment_installments                                          1   \n",
       "order_purchase_timestamp                    2017-10-02 10:56:33   \n",
       "order_delivered_customer_date               2017-10-10 21:25:13   \n",
       "freight_value                                              8.72   \n",
       "customer_state                                               SP   \n",
       "seller_state                                                 SP   \n",
       "payment_type                                            voucher   \n",
       "time_diff                                       8 days 10:28:40   \n",
       "\n",
       "                                                              3  \\\n",
       "order_id                       128e10d95713541c87cd1a2e48201934   \n",
       "customer_id                    a20e8105f23924cd00833fd87daa0831   \n",
       "customer_unique_id             3a51803cc0d012c3b5dc8b7528cb05f7   \n",
       "seller_id                      3504c0cb71d7fa48d967e0e4c94d59d9   \n",
       "order_status                                          delivered   \n",
       "price                                                     29.99   \n",
       "payment_value                                             37.77   \n",
       "product_category_name_english                        housewares   \n",
       "product_photos_qty                                          4.0   \n",
       "review_score                                                  4   \n",
       "product_weight_g                                          500.0   \n",
       "payment_installments                                          3   \n",
       "order_purchase_timestamp                    2017-08-15 18:29:31   \n",
       "order_delivered_customer_date               2017-08-18 14:44:43   \n",
       "freight_value                                              7.78   \n",
       "customer_state                                               SP   \n",
       "seller_state                                                 SP   \n",
       "payment_type                                        credit_card   \n",
       "time_diff                                       2 days 20:15:12   \n",
       "\n",
       "                                                              4  \n",
       "order_id                       0e7e841ddf8f8f2de2bad69267ecfbcf  \n",
       "customer_id                    26c7ac168e1433912a51b924fbd34d34  \n",
       "customer_unique_id             ef0996a1a279c26e7ecbd737be23d235  \n",
       "seller_id                      3504c0cb71d7fa48d967e0e4c94d59d9  \n",
       "order_status                                          delivered  \n",
       "price                                                     29.99  \n",
       "payment_value                                             37.77  \n",
       "product_category_name_english                        housewares  \n",
       "product_photos_qty                                          4.0  \n",
       "review_score                                                  5  \n",
       "product_weight_g                                          500.0  \n",
       "payment_installments                                          1  \n",
       "order_purchase_timestamp                    2017-08-02 18:24:47  \n",
       "order_delivered_customer_date               2017-08-07 18:30:01  \n",
       "freight_value                                              7.78  \n",
       "customer_state                                               SP  \n",
       "seller_state                                                 SP  \n",
       "payment_type                                        credit_card  \n",
       "time_diff                                       5 days 00:05:14  "
      ]
     },
     "execution_count": 79,
     "metadata": {},
     "output_type": "execute_result"
    }
   ],
   "source": [
    "df.head().T"
   ]
  },
  {
   "cell_type": "code",
   "execution_count": 80,
   "id": "96e6549d",
   "metadata": {},
   "outputs": [],
   "source": [
    "df['time_dif']=df['time_diff'].astype('timedelta64[D]')"
   ]
  },
  {
   "cell_type": "code",
   "execution_count": 81,
   "id": "65d2dce1",
   "metadata": {
    "scrolled": true
   },
   "outputs": [
    {
     "data": {
      "text/html": [
       "<div>\n",
       "<style scoped>\n",
       "    .dataframe tbody tr th:only-of-type {\n",
       "        vertical-align: middle;\n",
       "    }\n",
       "\n",
       "    .dataframe tbody tr th {\n",
       "        vertical-align: top;\n",
       "    }\n",
       "\n",
       "    .dataframe thead th {\n",
       "        text-align: right;\n",
       "    }\n",
       "</style>\n",
       "<table border=\"1\" class=\"dataframe\">\n",
       "  <thead>\n",
       "    <tr style=\"text-align: right;\">\n",
       "      <th></th>\n",
       "      <th>0</th>\n",
       "      <th>1</th>\n",
       "      <th>2</th>\n",
       "      <th>3</th>\n",
       "      <th>4</th>\n",
       "    </tr>\n",
       "  </thead>\n",
       "  <tbody>\n",
       "    <tr>\n",
       "      <th>order_id</th>\n",
       "      <td>e481f51cbdc54678b7cc49136f2d6af7</td>\n",
       "      <td>e481f51cbdc54678b7cc49136f2d6af7</td>\n",
       "      <td>e481f51cbdc54678b7cc49136f2d6af7</td>\n",
       "      <td>128e10d95713541c87cd1a2e48201934</td>\n",
       "      <td>0e7e841ddf8f8f2de2bad69267ecfbcf</td>\n",
       "    </tr>\n",
       "    <tr>\n",
       "      <th>customer_id</th>\n",
       "      <td>9ef432eb6251297304e76186b10a928d</td>\n",
       "      <td>9ef432eb6251297304e76186b10a928d</td>\n",
       "      <td>9ef432eb6251297304e76186b10a928d</td>\n",
       "      <td>a20e8105f23924cd00833fd87daa0831</td>\n",
       "      <td>26c7ac168e1433912a51b924fbd34d34</td>\n",
       "    </tr>\n",
       "    <tr>\n",
       "      <th>customer_unique_id</th>\n",
       "      <td>7c396fd4830fd04220f754e42b4e5bff</td>\n",
       "      <td>7c396fd4830fd04220f754e42b4e5bff</td>\n",
       "      <td>7c396fd4830fd04220f754e42b4e5bff</td>\n",
       "      <td>3a51803cc0d012c3b5dc8b7528cb05f7</td>\n",
       "      <td>ef0996a1a279c26e7ecbd737be23d235</td>\n",
       "    </tr>\n",
       "    <tr>\n",
       "      <th>seller_id</th>\n",
       "      <td>3504c0cb71d7fa48d967e0e4c94d59d9</td>\n",
       "      <td>3504c0cb71d7fa48d967e0e4c94d59d9</td>\n",
       "      <td>3504c0cb71d7fa48d967e0e4c94d59d9</td>\n",
       "      <td>3504c0cb71d7fa48d967e0e4c94d59d9</td>\n",
       "      <td>3504c0cb71d7fa48d967e0e4c94d59d9</td>\n",
       "    </tr>\n",
       "    <tr>\n",
       "      <th>order_status</th>\n",
       "      <td>delivered</td>\n",
       "      <td>delivered</td>\n",
       "      <td>delivered</td>\n",
       "      <td>delivered</td>\n",
       "      <td>delivered</td>\n",
       "    </tr>\n",
       "    <tr>\n",
       "      <th>price</th>\n",
       "      <td>29.99</td>\n",
       "      <td>29.99</td>\n",
       "      <td>29.99</td>\n",
       "      <td>29.99</td>\n",
       "      <td>29.99</td>\n",
       "    </tr>\n",
       "    <tr>\n",
       "      <th>payment_value</th>\n",
       "      <td>18.12</td>\n",
       "      <td>2.0</td>\n",
       "      <td>18.59</td>\n",
       "      <td>37.77</td>\n",
       "      <td>37.77</td>\n",
       "    </tr>\n",
       "    <tr>\n",
       "      <th>product_category_name_english</th>\n",
       "      <td>housewares</td>\n",
       "      <td>housewares</td>\n",
       "      <td>housewares</td>\n",
       "      <td>housewares</td>\n",
       "      <td>housewares</td>\n",
       "    </tr>\n",
       "    <tr>\n",
       "      <th>product_photos_qty</th>\n",
       "      <td>4.0</td>\n",
       "      <td>4.0</td>\n",
       "      <td>4.0</td>\n",
       "      <td>4.0</td>\n",
       "      <td>4.0</td>\n",
       "    </tr>\n",
       "    <tr>\n",
       "      <th>review_score</th>\n",
       "      <td>4</td>\n",
       "      <td>4</td>\n",
       "      <td>4</td>\n",
       "      <td>4</td>\n",
       "      <td>5</td>\n",
       "    </tr>\n",
       "    <tr>\n",
       "      <th>product_weight_g</th>\n",
       "      <td>500.0</td>\n",
       "      <td>500.0</td>\n",
       "      <td>500.0</td>\n",
       "      <td>500.0</td>\n",
       "      <td>500.0</td>\n",
       "    </tr>\n",
       "    <tr>\n",
       "      <th>payment_installments</th>\n",
       "      <td>1</td>\n",
       "      <td>1</td>\n",
       "      <td>1</td>\n",
       "      <td>3</td>\n",
       "      <td>1</td>\n",
       "    </tr>\n",
       "    <tr>\n",
       "      <th>order_purchase_timestamp</th>\n",
       "      <td>2017-10-02 10:56:33</td>\n",
       "      <td>2017-10-02 10:56:33</td>\n",
       "      <td>2017-10-02 10:56:33</td>\n",
       "      <td>2017-08-15 18:29:31</td>\n",
       "      <td>2017-08-02 18:24:47</td>\n",
       "    </tr>\n",
       "    <tr>\n",
       "      <th>order_delivered_customer_date</th>\n",
       "      <td>2017-10-10 21:25:13</td>\n",
       "      <td>2017-10-10 21:25:13</td>\n",
       "      <td>2017-10-10 21:25:13</td>\n",
       "      <td>2017-08-18 14:44:43</td>\n",
       "      <td>2017-08-07 18:30:01</td>\n",
       "    </tr>\n",
       "    <tr>\n",
       "      <th>freight_value</th>\n",
       "      <td>8.72</td>\n",
       "      <td>8.72</td>\n",
       "      <td>8.72</td>\n",
       "      <td>7.78</td>\n",
       "      <td>7.78</td>\n",
       "    </tr>\n",
       "    <tr>\n",
       "      <th>customer_state</th>\n",
       "      <td>SP</td>\n",
       "      <td>SP</td>\n",
       "      <td>SP</td>\n",
       "      <td>SP</td>\n",
       "      <td>SP</td>\n",
       "    </tr>\n",
       "    <tr>\n",
       "      <th>seller_state</th>\n",
       "      <td>SP</td>\n",
       "      <td>SP</td>\n",
       "      <td>SP</td>\n",
       "      <td>SP</td>\n",
       "      <td>SP</td>\n",
       "    </tr>\n",
       "    <tr>\n",
       "      <th>payment_type</th>\n",
       "      <td>credit_card</td>\n",
       "      <td>voucher</td>\n",
       "      <td>voucher</td>\n",
       "      <td>credit_card</td>\n",
       "      <td>credit_card</td>\n",
       "    </tr>\n",
       "    <tr>\n",
       "      <th>time_diff</th>\n",
       "      <td>8 days 10:28:40</td>\n",
       "      <td>8 days 10:28:40</td>\n",
       "      <td>8 days 10:28:40</td>\n",
       "      <td>2 days 20:15:12</td>\n",
       "      <td>5 days 00:05:14</td>\n",
       "    </tr>\n",
       "    <tr>\n",
       "      <th>time_dif</th>\n",
       "      <td>8.0</td>\n",
       "      <td>8.0</td>\n",
       "      <td>8.0</td>\n",
       "      <td>2.0</td>\n",
       "      <td>5.0</td>\n",
       "    </tr>\n",
       "  </tbody>\n",
       "</table>\n",
       "</div>"
      ],
      "text/plain": [
       "                                                              0  \\\n",
       "order_id                       e481f51cbdc54678b7cc49136f2d6af7   \n",
       "customer_id                    9ef432eb6251297304e76186b10a928d   \n",
       "customer_unique_id             7c396fd4830fd04220f754e42b4e5bff   \n",
       "seller_id                      3504c0cb71d7fa48d967e0e4c94d59d9   \n",
       "order_status                                          delivered   \n",
       "price                                                     29.99   \n",
       "payment_value                                             18.12   \n",
       "product_category_name_english                        housewares   \n",
       "product_photos_qty                                          4.0   \n",
       "review_score                                                  4   \n",
       "product_weight_g                                          500.0   \n",
       "payment_installments                                          1   \n",
       "order_purchase_timestamp                    2017-10-02 10:56:33   \n",
       "order_delivered_customer_date               2017-10-10 21:25:13   \n",
       "freight_value                                              8.72   \n",
       "customer_state                                               SP   \n",
       "seller_state                                                 SP   \n",
       "payment_type                                        credit_card   \n",
       "time_diff                                       8 days 10:28:40   \n",
       "time_dif                                                    8.0   \n",
       "\n",
       "                                                              1  \\\n",
       "order_id                       e481f51cbdc54678b7cc49136f2d6af7   \n",
       "customer_id                    9ef432eb6251297304e76186b10a928d   \n",
       "customer_unique_id             7c396fd4830fd04220f754e42b4e5bff   \n",
       "seller_id                      3504c0cb71d7fa48d967e0e4c94d59d9   \n",
       "order_status                                          delivered   \n",
       "price                                                     29.99   \n",
       "payment_value                                               2.0   \n",
       "product_category_name_english                        housewares   \n",
       "product_photos_qty                                          4.0   \n",
       "review_score                                                  4   \n",
       "product_weight_g                                          500.0   \n",
       "payment_installments                                          1   \n",
       "order_purchase_timestamp                    2017-10-02 10:56:33   \n",
       "order_delivered_customer_date               2017-10-10 21:25:13   \n",
       "freight_value                                              8.72   \n",
       "customer_state                                               SP   \n",
       "seller_state                                                 SP   \n",
       "payment_type                                            voucher   \n",
       "time_diff                                       8 days 10:28:40   \n",
       "time_dif                                                    8.0   \n",
       "\n",
       "                                                              2  \\\n",
       "order_id                       e481f51cbdc54678b7cc49136f2d6af7   \n",
       "customer_id                    9ef432eb6251297304e76186b10a928d   \n",
       "customer_unique_id             7c396fd4830fd04220f754e42b4e5bff   \n",
       "seller_id                      3504c0cb71d7fa48d967e0e4c94d59d9   \n",
       "order_status                                          delivered   \n",
       "price                                                     29.99   \n",
       "payment_value                                             18.59   \n",
       "product_category_name_english                        housewares   \n",
       "product_photos_qty                                          4.0   \n",
       "review_score                                                  4   \n",
       "product_weight_g                                          500.0   \n",
       "payment_installments                                          1   \n",
       "order_purchase_timestamp                    2017-10-02 10:56:33   \n",
       "order_delivered_customer_date               2017-10-10 21:25:13   \n",
       "freight_value                                              8.72   \n",
       "customer_state                                               SP   \n",
       "seller_state                                                 SP   \n",
       "payment_type                                            voucher   \n",
       "time_diff                                       8 days 10:28:40   \n",
       "time_dif                                                    8.0   \n",
       "\n",
       "                                                              3  \\\n",
       "order_id                       128e10d95713541c87cd1a2e48201934   \n",
       "customer_id                    a20e8105f23924cd00833fd87daa0831   \n",
       "customer_unique_id             3a51803cc0d012c3b5dc8b7528cb05f7   \n",
       "seller_id                      3504c0cb71d7fa48d967e0e4c94d59d9   \n",
       "order_status                                          delivered   \n",
       "price                                                     29.99   \n",
       "payment_value                                             37.77   \n",
       "product_category_name_english                        housewares   \n",
       "product_photos_qty                                          4.0   \n",
       "review_score                                                  4   \n",
       "product_weight_g                                          500.0   \n",
       "payment_installments                                          3   \n",
       "order_purchase_timestamp                    2017-08-15 18:29:31   \n",
       "order_delivered_customer_date               2017-08-18 14:44:43   \n",
       "freight_value                                              7.78   \n",
       "customer_state                                               SP   \n",
       "seller_state                                                 SP   \n",
       "payment_type                                        credit_card   \n",
       "time_diff                                       2 days 20:15:12   \n",
       "time_dif                                                    2.0   \n",
       "\n",
       "                                                              4  \n",
       "order_id                       0e7e841ddf8f8f2de2bad69267ecfbcf  \n",
       "customer_id                    26c7ac168e1433912a51b924fbd34d34  \n",
       "customer_unique_id             ef0996a1a279c26e7ecbd737be23d235  \n",
       "seller_id                      3504c0cb71d7fa48d967e0e4c94d59d9  \n",
       "order_status                                          delivered  \n",
       "price                                                     29.99  \n",
       "payment_value                                             37.77  \n",
       "product_category_name_english                        housewares  \n",
       "product_photos_qty                                          4.0  \n",
       "review_score                                                  5  \n",
       "product_weight_g                                          500.0  \n",
       "payment_installments                                          1  \n",
       "order_purchase_timestamp                    2017-08-02 18:24:47  \n",
       "order_delivered_customer_date               2017-08-07 18:30:01  \n",
       "freight_value                                              7.78  \n",
       "customer_state                                               SP  \n",
       "seller_state                                                 SP  \n",
       "payment_type                                        credit_card  \n",
       "time_diff                                       5 days 00:05:14  \n",
       "time_dif                                                    5.0  "
      ]
     },
     "execution_count": 81,
     "metadata": {},
     "output_type": "execute_result"
    }
   ],
   "source": [
    "df.head().T"
   ]
  },
  {
   "cell_type": "code",
   "execution_count": 82,
   "id": "ed32027a",
   "metadata": {},
   "outputs": [],
   "source": [
    "df.to_csv('/Users/rae/Desktop/datasets 2/Brazil/df.csv')"
   ]
  },
  {
   "cell_type": "code",
   "execution_count": 83,
   "id": "45cc0266",
   "metadata": {
    "scrolled": true
   },
   "outputs": [
    {
     "data": {
      "text/plain": [
       "Text(0.5, 1.0, 'delivery time')"
      ]
     },
     "execution_count": 83,
     "metadata": {},
     "output_type": "execute_result"
    },
    {
     "data": {
      "image/png": "[encoded data removed]",
      "text/plain": [
       "<Figure size 465.984x288 with 1 Axes>"
      ]
     },
     "metadata": {},
     "output_type": "display_data"
    }
   ],
   "source": [
    "sns.catplot(data=df[(df['time_dif']<21)&(df['time_dif']>0)],x='time_dif',kind='count',height=4,aspect=1.618)\n",
    "plt.title('delivery time')"
   ]
  },
  {
   "cell_type": "code",
   "execution_count": 84,
   "id": "e1d9085b",
   "metadata": {},
   "outputs": [
    {
     "data": {
      "text/plain": [
       "<seaborn.axisgrid.FacetGrid at 0x7fe6d0f91f70>"
      ]
     },
     "execution_count": 84,
     "metadata": {},
     "output_type": "execute_result"
    },
    {
     "data": {
      "image/png": "[encoded data removed]",
      "text/plain": [
       "<Figure size 360x360 with 1 Axes>"
      ]
     },
     "metadata": {},
     "output_type": "display_data"
    }
   ],
   "source": [
    "sns.relplot(data=df,x='product_photos_qty',y='price')"
   ]
  },
  {
   "cell_type": "code",
   "execution_count": 85,
   "id": "7f5f2c91",
   "metadata": {},
   "outputs": [],
   "source": [
    "df['purchase_time']=df['order_purchase_timestamp'].dt.hour"
   ]
  },
  {
   "cell_type": "code",
   "execution_count": 86,
   "id": "327c2b83",
   "metadata": {},
   "outputs": [
    {
     "data": {
      "text/html": [
       "<div>\n",
       "<style scoped>\n",
       "    .dataframe tbody tr th:only-of-type {\n",
       "        vertical-align: middle;\n",
       "    }\n",
       "\n",
       "    .dataframe tbody tr th {\n",
       "        vertical-align: top;\n",
       "    }\n",
       "\n",
       "    .dataframe thead th {\n",
       "        text-align: right;\n",
       "    }\n",
       "</style>\n",
       "<table border=\"1\" class=\"dataframe\">\n",
       "  <thead>\n",
       "    <tr style=\"text-align: right;\">\n",
       "      <th></th>\n",
       "      <th>0</th>\n",
       "      <th>1</th>\n",
       "      <th>2</th>\n",
       "      <th>3</th>\n",
       "      <th>4</th>\n",
       "    </tr>\n",
       "  </thead>\n",
       "  <tbody>\n",
       "    <tr>\n",
       "      <th>order_id</th>\n",
       "      <td>e481f51cbdc54678b7cc49136f2d6af7</td>\n",
       "      <td>e481f51cbdc54678b7cc49136f2d6af7</td>\n",
       "      <td>e481f51cbdc54678b7cc49136f2d6af7</td>\n",
       "      <td>128e10d95713541c87cd1a2e48201934</td>\n",
       "      <td>0e7e841ddf8f8f2de2bad69267ecfbcf</td>\n",
       "    </tr>\n",
       "    <tr>\n",
       "      <th>customer_id</th>\n",
       "      <td>9ef432eb6251297304e76186b10a928d</td>\n",
       "      <td>9ef432eb6251297304e76186b10a928d</td>\n",
       "      <td>9ef432eb6251297304e76186b10a928d</td>\n",
       "      <td>a20e8105f23924cd00833fd87daa0831</td>\n",
       "      <td>26c7ac168e1433912a51b924fbd34d34</td>\n",
       "    </tr>\n",
       "    <tr>\n",
       "      <th>customer_unique_id</th>\n",
       "      <td>7c396fd4830fd04220f754e42b4e5bff</td>\n",
       "      <td>7c396fd4830fd04220f754e42b4e5bff</td>\n",
       "      <td>7c396fd4830fd04220f754e42b4e5bff</td>\n",
       "      <td>3a51803cc0d012c3b5dc8b7528cb05f7</td>\n",
       "      <td>ef0996a1a279c26e7ecbd737be23d235</td>\n",
       "    </tr>\n",
       "    <tr>\n",
       "      <th>seller_id</th>\n",
       "      <td>3504c0cb71d7fa48d967e0e4c94d59d9</td>\n",
       "      <td>3504c0cb71d7fa48d967e0e4c94d59d9</td>\n",
       "      <td>3504c0cb71d7fa48d967e0e4c94d59d9</td>\n",
       "      <td>3504c0cb71d7fa48d967e0e4c94d59d9</td>\n",
       "      <td>3504c0cb71d7fa48d967e0e4c94d59d9</td>\n",
       "    </tr>\n",
       "    <tr>\n",
       "      <th>order_status</th>\n",
       "      <td>delivered</td>\n",
       "      <td>delivered</td>\n",
       "      <td>delivered</td>\n",
       "      <td>delivered</td>\n",
       "      <td>delivered</td>\n",
       "    </tr>\n",
       "    <tr>\n",
       "      <th>price</th>\n",
       "      <td>29.99</td>\n",
       "      <td>29.99</td>\n",
       "      <td>29.99</td>\n",
       "      <td>29.99</td>\n",
       "      <td>29.99</td>\n",
       "    </tr>\n",
       "    <tr>\n",
       "      <th>payment_value</th>\n",
       "      <td>18.12</td>\n",
       "      <td>2.0</td>\n",
       "      <td>18.59</td>\n",
       "      <td>37.77</td>\n",
       "      <td>37.77</td>\n",
       "    </tr>\n",
       "    <tr>\n",
       "      <th>product_category_name_english</th>\n",
       "      <td>housewares</td>\n",
       "      <td>housewares</td>\n",
       "      <td>housewares</td>\n",
       "      <td>housewares</td>\n",
       "      <td>housewares</td>\n",
       "    </tr>\n",
       "    <tr>\n",
       "      <th>product_photos_qty</th>\n",
       "      <td>4.0</td>\n",
       "      <td>4.0</td>\n",
       "      <td>4.0</td>\n",
       "      <td>4.0</td>\n",
       "      <td>4.0</td>\n",
       "    </tr>\n",
       "    <tr>\n",
       "      <th>review_score</th>\n",
       "      <td>4</td>\n",
       "      <td>4</td>\n",
       "      <td>4</td>\n",
       "      <td>4</td>\n",
       "      <td>5</td>\n",
       "    </tr>\n",
       "    <tr>\n",
       "      <th>product_weight_g</th>\n",
       "      <td>500.0</td>\n",
       "      <td>500.0</td>\n",
       "      <td>500.0</td>\n",
       "      <td>500.0</td>\n",
       "      <td>500.0</td>\n",
       "    </tr>\n",
       "    <tr>\n",
       "      <th>payment_installments</th>\n",
       "      <td>1</td>\n",
       "      <td>1</td>\n",
       "      <td>1</td>\n",
       "      <td>3</td>\n",
       "      <td>1</td>\n",
       "    </tr>\n",
       "    <tr>\n",
       "      <th>order_purchase_timestamp</th>\n",
       "      <td>2017-10-02 10:56:33</td>\n",
       "      <td>2017-10-02 10:56:33</td>\n",
       "      <td>2017-10-02 10:56:33</td>\n",
       "      <td>2017-08-15 18:29:31</td>\n",
       "      <td>2017-08-02 18:24:47</td>\n",
       "    </tr>\n",
       "    <tr>\n",
       "      <th>order_delivered_customer_date</th>\n",
       "      <td>2017-10-10 21:25:13</td>\n",
       "      <td>2017-10-10 21:25:13</td>\n",
       "      <td>2017-10-10 21:25:13</td>\n",
       "      <td>2017-08-18 14:44:43</td>\n",
       "      <td>2017-08-07 18:30:01</td>\n",
       "    </tr>\n",
       "    <tr>\n",
       "      <th>freight_value</th>\n",
       "      <td>8.72</td>\n",
       "      <td>8.72</td>\n",
       "      <td>8.72</td>\n",
       "      <td>7.78</td>\n",
       "      <td>7.78</td>\n",
       "    </tr>\n",
       "    <tr>\n",
       "      <th>customer_state</th>\n",
       "      <td>SP</td>\n",
       "      <td>SP</td>\n",
       "      <td>SP</td>\n",
       "      <td>SP</td>\n",
       "      <td>SP</td>\n",
       "    </tr>\n",
       "    <tr>\n",
       "      <th>seller_state</th>\n",
       "      <td>SP</td>\n",
       "      <td>SP</td>\n",
       "      <td>SP</td>\n",
       "      <td>SP</td>\n",
       "      <td>SP</td>\n",
       "    </tr>\n",
       "    <tr>\n",
       "      <th>payment_type</th>\n",
       "      <td>credit_card</td>\n",
       "      <td>voucher</td>\n",
       "      <td>voucher</td>\n",
       "      <td>credit_card</td>\n",
       "      <td>credit_card</td>\n",
       "    </tr>\n",
       "    <tr>\n",
       "      <th>time_diff</th>\n",
       "      <td>8 days 10:28:40</td>\n",
       "      <td>8 days 10:28:40</td>\n",
       "      <td>8 days 10:28:40</td>\n",
       "      <td>2 days 20:15:12</td>\n",
       "      <td>5 days 00:05:14</td>\n",
       "    </tr>\n",
       "    <tr>\n",
       "      <th>time_dif</th>\n",
       "      <td>8.0</td>\n",
       "      <td>8.0</td>\n",
       "      <td>8.0</td>\n",
       "      <td>2.0</td>\n",
       "      <td>5.0</td>\n",
       "    </tr>\n",
       "    <tr>\n",
       "      <th>purchase_time</th>\n",
       "      <td>10</td>\n",
       "      <td>10</td>\n",
       "      <td>10</td>\n",
       "      <td>18</td>\n",
       "      <td>18</td>\n",
       "    </tr>\n",
       "  </tbody>\n",
       "</table>\n",
       "</div>"
      ],
      "text/plain": [
       "                                                              0  \\\n",
       "order_id                       e481f51cbdc54678b7cc49136f2d6af7   \n",
       "customer_id                    9ef432eb6251297304e76186b10a928d   \n",
       "customer_unique_id             7c396fd4830fd04220f754e42b4e5bff   \n",
       "seller_id                      3504c0cb71d7fa48d967e0e4c94d59d9   \n",
       "order_status                                          delivered   \n",
       "price                                                     29.99   \n",
       "payment_value                                             18.12   \n",
       "product_category_name_english                        housewares   \n",
       "product_photos_qty                                          4.0   \n",
       "review_score                                                  4   \n",
       "product_weight_g                                          500.0   \n",
       "payment_installments                                          1   \n",
       "order_purchase_timestamp                    2017-10-02 10:56:33   \n",
       "order_delivered_customer_date               2017-10-10 21:25:13   \n",
       "freight_value                                              8.72   \n",
       "customer_state                                               SP   \n",
       "seller_state                                                 SP   \n",
       "payment_type                                        credit_card   \n",
       "time_diff                                       8 days 10:28:40   \n",
       "time_dif                                                    8.0   \n",
       "purchase_time                                                10   \n",
       "\n",
       "                                                              1  \\\n",
       "order_id                       e481f51cbdc54678b7cc49136f2d6af7   \n",
       "customer_id                    9ef432eb6251297304e76186b10a928d   \n",
       "customer_unique_id             7c396fd4830fd04220f754e42b4e5bff   \n",
       "seller_id                      3504c0cb71d7fa48d967e0e4c94d59d9   \n",
       "order_status                                          delivered   \n",
       "price                                                     29.99   \n",
       "payment_value                                               2.0   \n",
       "product_category_name_english                        housewares   \n",
       "product_photos_qty                                          4.0   \n",
       "review_score                                                  4   \n",
       "product_weight_g                                          500.0   \n",
       "payment_installments                                          1   \n",
       "order_purchase_timestamp                    2017-10-02 10:56:33   \n",
       "order_delivered_customer_date               2017-10-10 21:25:13   \n",
       "freight_value                                              8.72   \n",
       "customer_state                                               SP   \n",
       "seller_state                                                 SP   \n",
       "payment_type                                            voucher   \n",
       "time_diff                                       8 days 10:28:40   \n",
       "time_dif                                                    8.0   \n",
       "purchase_time                                                10   \n",
       "\n",
       "                                                              2  \\\n",
       "order_id                       e481f51cbdc54678b7cc49136f2d6af7   \n",
       "customer_id                    9ef432eb6251297304e76186b10a928d   \n",
       "customer_unique_id             7c396fd4830fd04220f754e42b4e5bff   \n",
       "seller_id                      3504c0cb71d7fa48d967e0e4c94d59d9   \n",
       "order_status                                          delivered   \n",
       "price                                                     29.99   \n",
       "payment_value                                             18.59   \n",
       "product_category_name_english                        housewares   \n",
       "product_photos_qty                                          4.0   \n",
       "review_score                                                  4   \n",
       "product_weight_g                                          500.0   \n",
       "payment_installments                                          1   \n",
       "order_purchase_timestamp                    2017-10-02 10:56:33   \n",
       "order_delivered_customer_date               2017-10-10 21:25:13   \n",
       "freight_value                                              8.72   \n",
       "customer_state                                               SP   \n",
       "seller_state                                                 SP   \n",
       "payment_type                                            voucher   \n",
       "time_diff                                       8 days 10:28:40   \n",
       "time_dif                                                    8.0   \n",
       "purchase_time                                                10   \n",
       "\n",
       "                                                              3  \\\n",
       "order_id                       128e10d95713541c87cd1a2e48201934   \n",
       "customer_id                    a20e8105f23924cd00833fd87daa0831   \n",
       "customer_unique_id             3a51803cc0d012c3b5dc8b7528cb05f7   \n",
       "seller_id                      3504c0cb71d7fa48d967e0e4c94d59d9   \n",
       "order_status                                          delivered   \n",
       "price                                                     29.99   \n",
       "payment_value                                             37.77   \n",
       "product_category_name_english                        housewares   \n",
       "product_photos_qty                                          4.0   \n",
       "review_score                                                  4   \n",
       "product_weight_g                                          500.0   \n",
       "payment_installments                                          3   \n",
       "order_purchase_timestamp                    2017-08-15 18:29:31   \n",
       "order_delivered_customer_date               2017-08-18 14:44:43   \n",
       "freight_value                                              7.78   \n",
       "customer_state                                               SP   \n",
       "seller_state                                                 SP   \n",
       "payment_type                                        credit_card   \n",
       "time_diff                                       2 days 20:15:12   \n",
       "time_dif                                                    2.0   \n",
       "purchase_time                                                18   \n",
       "\n",
       "                                                              4  \n",
       "order_id                       0e7e841ddf8f8f2de2bad69267ecfbcf  \n",
       "customer_id                    26c7ac168e1433912a51b924fbd34d34  \n",
       "customer_unique_id             ef0996a1a279c26e7ecbd737be23d235  \n",
       "seller_id                      3504c0cb71d7fa48d967e0e4c94d59d9  \n",
       "order_status                                          delivered  \n",
       "price                                                     29.99  \n",
       "payment_value                                             37.77  \n",
       "product_category_name_english                        housewares  \n",
       "product_photos_qty                                          4.0  \n",
       "review_score                                                  5  \n",
       "product_weight_g                                          500.0  \n",
       "payment_installments                                          1  \n",
       "order_purchase_timestamp                    2017-08-02 18:24:47  \n",
       "order_delivered_customer_date               2017-08-07 18:30:01  \n",
       "freight_value                                              7.78  \n",
       "customer_state                                               SP  \n",
       "seller_state                                                 SP  \n",
       "payment_type                                        credit_card  \n",
       "time_diff                                       5 days 00:05:14  \n",
       "time_dif                                                    5.0  \n",
       "purchase_time                                                18  "
      ]
     },
     "execution_count": 86,
     "metadata": {},
     "output_type": "execute_result"
    }
   ],
   "source": [
    "df.head().T"
   ]
  },
  {
   "cell_type": "code",
   "execution_count": 87,
   "id": "2cf3cb7f",
   "metadata": {},
   "outputs": [],
   "source": [
    "def duration(x):\n",
    "    if x in range(7,12):\n",
    "        return 'morning'\n",
    "    elif x in range(12,16):\n",
    "        return 'afternoon'\n",
    "    elif x in range(16,22):\n",
    "        return 'evening'\n",
    "    else:\n",
    "        return 'late night'"
   ]
  },
  {
   "cell_type": "code",
   "execution_count": 88,
   "id": "a66571e2",
   "metadata": {},
   "outputs": [],
   "source": [
    "df['purchase_duration']=df['purchase_time'].apply(duration)"
   ]
  },
  {
   "cell_type": "code",
   "execution_count": 89,
   "id": "2e3270d3",
   "metadata": {},
   "outputs": [
    {
     "data": {
      "text/html": [
       "<div>\n",
       "<style scoped>\n",
       "    .dataframe tbody tr th:only-of-type {\n",
       "        vertical-align: middle;\n",
       "    }\n",
       "\n",
       "    .dataframe tbody tr th {\n",
       "        vertical-align: top;\n",
       "    }\n",
       "\n",
       "    .dataframe thead th {\n",
       "        text-align: right;\n",
       "    }\n",
       "</style>\n",
       "<table border=\"1\" class=\"dataframe\">\n",
       "  <thead>\n",
       "    <tr style=\"text-align: right;\">\n",
       "      <th></th>\n",
       "      <th>order_purchase_timestamp</th>\n",
       "      <th>purchase_time</th>\n",
       "      <th>purchase_duration</th>\n",
       "    </tr>\n",
       "  </thead>\n",
       "  <tbody>\n",
       "    <tr>\n",
       "      <th>0</th>\n",
       "      <td>2017-10-02 10:56:33</td>\n",
       "      <td>10</td>\n",
       "      <td>morning</td>\n",
       "    </tr>\n",
       "    <tr>\n",
       "      <th>1</th>\n",
       "      <td>2017-10-02 10:56:33</td>\n",
       "      <td>10</td>\n",
       "      <td>morning</td>\n",
       "    </tr>\n",
       "    <tr>\n",
       "      <th>2</th>\n",
       "      <td>2017-10-02 10:56:33</td>\n",
       "      <td>10</td>\n",
       "      <td>morning</td>\n",
       "    </tr>\n",
       "    <tr>\n",
       "      <th>3</th>\n",
       "      <td>2017-08-15 18:29:31</td>\n",
       "      <td>18</td>\n",
       "      <td>evening</td>\n",
       "    </tr>\n",
       "    <tr>\n",
       "      <th>4</th>\n",
       "      <td>2017-08-02 18:24:47</td>\n",
       "      <td>18</td>\n",
       "      <td>evening</td>\n",
       "    </tr>\n",
       "  </tbody>\n",
       "</table>\n",
       "</div>"
      ],
      "text/plain": [
       "  order_purchase_timestamp  purchase_time purchase_duration\n",
       "0      2017-10-02 10:56:33             10           morning\n",
       "1      2017-10-02 10:56:33             10           morning\n",
       "2      2017-10-02 10:56:33             10           morning\n",
       "3      2017-08-15 18:29:31             18           evening\n",
       "4      2017-08-02 18:24:47             18           evening"
      ]
     },
     "execution_count": 89,
     "metadata": {},
     "output_type": "execute_result"
    }
   ],
   "source": [
    "df[['order_purchase_timestamp','purchase_time','purchase_duration']].head()"
   ]
  },
  {
   "cell_type": "code",
   "execution_count": 90,
   "id": "cf0472fd",
   "metadata": {},
   "outputs": [
    {
     "data": {
      "text/plain": [
       "<AxesSubplot:xlabel='purchase_duration', ylabel='count'>"
      ]
     },
     "execution_count": 90,
     "metadata": {},
     "output_type": "execute_result"
    },
    {
     "data": {
      "image/png": "[encoded data removed]",
      "text/plain": [
       "<Figure size 432x288 with 1 Axes>"
      ]
     },
     "metadata": {},
     "output_type": "display_data"
    }
   ],
   "source": [
    "sns.countplot(data=df,x='purchase_duration')"
   ]
  },
  {
   "cell_type": "code",
   "execution_count": 91,
   "id": "56ee3154",
   "metadata": {},
   "outputs": [
    {
     "data": {
      "text/plain": [
       "<AxesSubplot:xlabel='purchase_time', ylabel='count'>"
      ]
     },
     "execution_count": 91,
     "metadata": {},
     "output_type": "execute_result"
    },
    {
     "data": {
      "image/png": "[encoded data removed]",
      "text/plain": [
       "<Figure size 432x288 with 1 Axes>"
      ]
     },
     "metadata": {},
     "output_type": "display_data"
    }
   ],
   "source": [
    "sns.countplot(data=df,x='purchase_time')"
   ]
  },
  {
   "cell_type": "code",
   "execution_count": null,
   "id": "356f652f",
   "metadata": {},
   "outputs": [],
   "source": []
  }
 ],
 "metadata": {
  "kernelspec": {
   "display_name": "Python 3 (ipykernel)",
   "language": "python",
   "name": "python3"
  },
  "language_info": {
   "codemirror_mode": {
    "name": "ipython",
    "version": 3
   },
   "file_extension": ".py",
   "mimetype": "text/x-python",
   "name": "python",
   "nbconvert_exporter": "python",
   "pygments_lexer": "ipython3",
   "version": "3.9.7"
  }
 },
 "nbformat": 4,
 "nbformat_minor": 5
}
