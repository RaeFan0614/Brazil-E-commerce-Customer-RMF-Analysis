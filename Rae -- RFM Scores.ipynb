{
 "cells": [
  {
   "cell_type": "code",
   "execution_count": 1,
   "id": "1781ae09",
   "metadata": {},
   "outputs": [],
   "source": [
    "import pandas as pd\n",
    "import numpy as np\n",
    "import matplotlib.pyplot as plt\n",
    "from matplotlib.pyplot import figure\n",
    "import seaborn as sns\n",
    "import matplotlib\n",
    "%matplotlib inline"
   ]
  },
  {
   "cell_type": "code",
   "execution_count": 2,
   "id": "384cff6e",
   "metadata": {},
   "outputs": [],
   "source": [
    "df=pd.read_csv('/Users/rae/Desktop/jiuzhang--Rae--practice/rfm_final.csv')"
   ]
  },
  {
   "cell_type": "code",
   "execution_count": 3,
   "id": "edc59490",
   "metadata": {},
   "outputs": [],
   "source": [
    "from IPython.core.interactiveshell import InteractiveShell"
   ]
  },
  {
   "cell_type": "code",
   "execution_count": 4,
   "id": "9dc49c45",
   "metadata": {
    "scrolled": true
   },
   "outputs": [
    {
     "data": {
      "text/plain": [
       "{'recency': {0.2: 95.0, 0.4: 180.0, 0.6: 272.0, 0.8: 387.0},\n",
       " 'frequency': {0.2: 1.0, 0.4: 1.0, 0.6: 1.0, 0.8: 1.0},\n",
       " 'monetary': {0.2: 39.9, 0.4: 69.9, 0.6: 110.99, 0.8: 189.0}}"
      ]
     },
     "execution_count": 4,
     "metadata": {},
     "output_type": "execute_result"
    }
   ],
   "source": [
    "quintiles=df[['recency','frequency','monetary']].quantile([0.2, 0.4, 0.6, 0.8]).to_dict()\n",
    "quintiles"
   ]
  },
  {
   "cell_type": "markdown",
   "id": "1e1f32a6",
   "metadata": {},
   "source": [
    "# Part II: RFM scores calculation"
   ]
  },
  {
   "cell_type": "code",
   "execution_count": 5,
   "id": "5e6d1786",
   "metadata": {},
   "outputs": [],
   "source": [
    "def r_score(x,c):\n",
    "    if x<=quintiles[c][0.2]:\n",
    "        return 5\n",
    "    elif x<=quintiles[c][0.4]:\n",
    "        return 4\n",
    "    elif x<=quintiles[c][0.6]:\n",
    "        return 3\n",
    "    elif x<=quintiles[c][0.8]:\n",
    "        return 2\n",
    "    else:\n",
    "        return 1"
   ]
  },
  {
   "cell_type": "code",
   "execution_count": 6,
   "id": "e948259f",
   "metadata": {},
   "outputs": [],
   "source": [
    "df['r']=df['recency'].apply(lambda x: r_score(x,'recency'))"
   ]
  },
  {
   "cell_type": "code",
   "execution_count": 7,
   "id": "fe474c5e",
   "metadata": {},
   "outputs": [
    {
     "data": {
      "text/plain": [
       "3    18784\n",
       "5    18724\n",
       "4    18685\n",
       "2    18610\n",
       "1    18593\n",
       "Name: r, dtype: int64"
      ]
     },
     "execution_count": 7,
     "metadata": {},
     "output_type": "execute_result"
    }
   ],
   "source": [
    "df['r'].value_counts()"
   ]
  },
  {
   "cell_type": "code",
   "execution_count": 8,
   "id": "a0ba9160",
   "metadata": {},
   "outputs": [],
   "source": [
    "def m_score(x,c):\n",
    "    if x<=quintiles[c][0.2]:\n",
    "        return 1\n",
    "    elif x<=quintiles[c][0.4]:\n",
    "        return 2\n",
    "    elif x<=quintiles[c][0.6]:\n",
    "        return 3\n",
    "    elif x<=quintiles[c][0.8]:\n",
    "        return 4\n",
    "    else:\n",
    "        return 5"
   ]
  },
  {
   "cell_type": "code",
   "execution_count": 9,
   "id": "03152918",
   "metadata": {},
   "outputs": [],
   "source": [
    "df['m']=df['monetary'].apply(lambda x: m_score(x,'monetary'))"
   ]
  },
  {
   "cell_type": "code",
   "execution_count": 10,
   "id": "1b7673ed",
   "metadata": {},
   "outputs": [
    {
     "data": {
      "text/plain": [
       "2    19081\n",
       "1    18846\n",
       "4    18809\n",
       "5    18549\n",
       "3    18111\n",
       "Name: m, dtype: int64"
      ]
     },
     "execution_count": 10,
     "metadata": {},
     "output_type": "execute_result"
    }
   ],
   "source": [
    "df['m'].value_counts()"
   ]
  },
  {
   "cell_type": "code",
   "execution_count": 11,
   "id": "334992e1",
   "metadata": {},
   "outputs": [],
   "source": [
    "def f_score(x,c):\n",
    "    if x<=1:\n",
    "        return 1\n",
    "    elif x<=2:\n",
    "        return 2\n",
    "    elif x<=3:\n",
    "        return 3\n",
    "    elif x<=5:\n",
    "        return 4\n",
    "    else:\n",
    "        return 5"
   ]
  },
  {
   "cell_type": "code",
   "execution_count": 12,
   "id": "5cd986e2",
   "metadata": {},
   "outputs": [],
   "source": [
    "df['f']=df['frequency'].apply(lambda x: f_score(x,'frequency'))"
   ]
  },
  {
   "cell_type": "code",
   "execution_count": 13,
   "id": "f98c33c5",
   "metadata": {},
   "outputs": [
    {
     "data": {
      "text/plain": [
       "1    79377\n",
       "2    10227\n",
       "3     1973\n",
       "4     1277\n",
       "5      542\n",
       "Name: f, dtype: int64"
      ]
     },
     "execution_count": 13,
     "metadata": {},
     "output_type": "execute_result"
    }
   ],
   "source": [
    "df['f'].value_counts()"
   ]
  },
  {
   "cell_type": "markdown",
   "id": "5fb8e21e",
   "metadata": {},
   "source": [
    "# Part III: Combine RFM scores into one field"
   ]
  },
  {
   "cell_type": "code",
   "execution_count": 14,
   "id": "fb4df293",
   "metadata": {},
   "outputs": [
    {
     "data": {
      "text/html": [
       "<div>\n",
       "<style scoped>\n",
       "    .dataframe tbody tr th:only-of-type {\n",
       "        vertical-align: middle;\n",
       "    }\n",
       "\n",
       "    .dataframe tbody tr th {\n",
       "        vertical-align: top;\n",
       "    }\n",
       "\n",
       "    .dataframe thead th {\n",
       "        text-align: right;\n",
       "    }\n",
       "</style>\n",
       "<table border=\"1\" class=\"dataframe\">\n",
       "  <thead>\n",
       "    <tr style=\"text-align: right;\">\n",
       "      <th></th>\n",
       "      <th>customer_unique_id</th>\n",
       "      <th>recency</th>\n",
       "      <th>frequency</th>\n",
       "      <th>monetary</th>\n",
       "      <th>length</th>\n",
       "      <th>rating</th>\n",
       "      <th>avg_pay_install</th>\n",
       "      <th>r</th>\n",
       "      <th>m</th>\n",
       "      <th>f</th>\n",
       "      <th>rfm</th>\n",
       "    </tr>\n",
       "  </thead>\n",
       "  <tbody>\n",
       "    <tr>\n",
       "      <th>0</th>\n",
       "      <td>0000366f3b9a7992bf8c76cfdf3221e2</td>\n",
       "      <td>115.0</td>\n",
       "      <td>1</td>\n",
       "      <td>129.90</td>\n",
       "      <td>0.0</td>\n",
       "      <td>5.0</td>\n",
       "      <td>8.0</td>\n",
       "      <td>4</td>\n",
       "      <td>4</td>\n",
       "      <td>1</td>\n",
       "      <td>414</td>\n",
       "    </tr>\n",
       "    <tr>\n",
       "      <th>1</th>\n",
       "      <td>0000b849f77a49e4a4ce2b2a4ca5be3f</td>\n",
       "      <td>118.0</td>\n",
       "      <td>1</td>\n",
       "      <td>18.90</td>\n",
       "      <td>0.0</td>\n",
       "      <td>4.0</td>\n",
       "      <td>1.0</td>\n",
       "      <td>4</td>\n",
       "      <td>1</td>\n",
       "      <td>1</td>\n",
       "      <td>411</td>\n",
       "    </tr>\n",
       "    <tr>\n",
       "      <th>2</th>\n",
       "      <td>0000f46a3911fa3c0805444483337064</td>\n",
       "      <td>541.0</td>\n",
       "      <td>1</td>\n",
       "      <td>69.00</td>\n",
       "      <td>0.0</td>\n",
       "      <td>3.0</td>\n",
       "      <td>8.0</td>\n",
       "      <td>1</td>\n",
       "      <td>2</td>\n",
       "      <td>1</td>\n",
       "      <td>112</td>\n",
       "    </tr>\n",
       "    <tr>\n",
       "      <th>3</th>\n",
       "      <td>0000f6ccb0745a6a4b88665a16c9f078</td>\n",
       "      <td>325.0</td>\n",
       "      <td>1</td>\n",
       "      <td>25.99</td>\n",
       "      <td>0.0</td>\n",
       "      <td>4.0</td>\n",
       "      <td>4.0</td>\n",
       "      <td>2</td>\n",
       "      <td>1</td>\n",
       "      <td>1</td>\n",
       "      <td>211</td>\n",
       "    </tr>\n",
       "    <tr>\n",
       "      <th>4</th>\n",
       "      <td>0004aac84e0df4da2b147fca70cf8255</td>\n",
       "      <td>292.0</td>\n",
       "      <td>1</td>\n",
       "      <td>180.00</td>\n",
       "      <td>0.0</td>\n",
       "      <td>5.0</td>\n",
       "      <td>6.0</td>\n",
       "      <td>2</td>\n",
       "      <td>4</td>\n",
       "      <td>1</td>\n",
       "      <td>214</td>\n",
       "    </tr>\n",
       "  </tbody>\n",
       "</table>\n",
       "</div>"
      ],
      "text/plain": [
       "                 customer_unique_id  recency  frequency  monetary  length  \\\n",
       "0  0000366f3b9a7992bf8c76cfdf3221e2    115.0          1    129.90     0.0   \n",
       "1  0000b849f77a49e4a4ce2b2a4ca5be3f    118.0          1     18.90     0.0   \n",
       "2  0000f46a3911fa3c0805444483337064    541.0          1     69.00     0.0   \n",
       "3  0000f6ccb0745a6a4b88665a16c9f078    325.0          1     25.99     0.0   \n",
       "4  0004aac84e0df4da2b147fca70cf8255    292.0          1    180.00     0.0   \n",
       "\n",
       "   rating  avg_pay_install  r  m  f  rfm  \n",
       "0     5.0              8.0  4  4  1  414  \n",
       "1     4.0              1.0  4  1  1  411  \n",
       "2     3.0              8.0  1  2  1  112  \n",
       "3     4.0              4.0  2  1  1  211  \n",
       "4     5.0              6.0  2  4  1  214  "
      ]
     },
     "execution_count": 14,
     "metadata": {},
     "output_type": "execute_result"
    }
   ],
   "source": [
    "df['rfm']=df['r'].map(str) + df['f'].map(str) + df['m'].map(str)\n",
    "df.head()"
   ]
  },
  {
   "cell_type": "markdown",
   "id": "1c634068",
   "metadata": {},
   "source": [
    "# Part IV: Customer segmentation"
   ]
  },
  {
   "cell_type": "code",
   "execution_count": 15,
   "id": "55122693",
   "metadata": {},
   "outputs": [],
   "source": [
    "segt_map_normal={\n",
    "    \n",
    "    r'[1-2][1-2]':'hibernating',\n",
    "    r'[1-2][3-4]':'at risk',\n",
    "    r'[1-2]5':'can\\'t lose',\n",
    "    r'3[1-2]':'about to sleep',\n",
    "    r'33': 'need attention',\n",
    "    r'[3-4][4-5]': 'loyal customers',\n",
    "    r'41': 'promising',\n",
    "    r'51': 'new customers',\n",
    "    r'[4-5][2-3]': 'potential loyalists',\n",
    "    r'5[4-5]': 'champions'    \n",
    "}"
   ]
  },
  {
   "cell_type": "code",
   "execution_count": 22,
   "id": "e0f50feb",
   "metadata": {},
   "outputs": [],
   "source": [
    "segt_map={\n",
    "    \n",
    "    r'[1-2]1': 'hibernating',\n",
    "    r'[1-2][2-3]': 'at risk',\n",
    "    r'[1-2][4-5]': 'can\\'t lose',\n",
    "    \n",
    "    r'3[1]': 'about to sleep',\n",
    "    r'32': 'need attention',\n",
    "    r'[3-4][3-5]': 'loyal customers',\n",
    "    \n",
    "    r'41': 'promising',\n",
    "    r'51': 'new customers',\n",
    "    r'[4-5]2': 'potential loyalists',\n",
    "    r'5[3-5]': 'champions'    \n",
    "}"
   ]
  },
  {
   "cell_type": "code",
   "execution_count": 23,
   "id": "b0f5b8a2",
   "metadata": {},
   "outputs": [
    {
     "data": {
      "text/html": [
       "<div>\n",
       "<style scoped>\n",
       "    .dataframe tbody tr th:only-of-type {\n",
       "        vertical-align: middle;\n",
       "    }\n",
       "\n",
       "    .dataframe tbody tr th {\n",
       "        vertical-align: top;\n",
       "    }\n",
       "\n",
       "    .dataframe thead th {\n",
       "        text-align: right;\n",
       "    }\n",
       "</style>\n",
       "<table border=\"1\" class=\"dataframe\">\n",
       "  <thead>\n",
       "    <tr style=\"text-align: right;\">\n",
       "      <th></th>\n",
       "      <th>customer_unique_id</th>\n",
       "      <th>recency</th>\n",
       "      <th>frequency</th>\n",
       "      <th>monetary</th>\n",
       "      <th>length</th>\n",
       "      <th>rating</th>\n",
       "      <th>avg_pay_install</th>\n",
       "      <th>r</th>\n",
       "      <th>m</th>\n",
       "      <th>f</th>\n",
       "      <th>rfm</th>\n",
       "      <th>segment</th>\n",
       "    </tr>\n",
       "  </thead>\n",
       "  <tbody>\n",
       "    <tr>\n",
       "      <th>0</th>\n",
       "      <td>0000366f3b9a7992bf8c76cfdf3221e2</td>\n",
       "      <td>115.0</td>\n",
       "      <td>1</td>\n",
       "      <td>129.90</td>\n",
       "      <td>0.0</td>\n",
       "      <td>5.0</td>\n",
       "      <td>8.0</td>\n",
       "      <td>4</td>\n",
       "      <td>4</td>\n",
       "      <td>1</td>\n",
       "      <td>414</td>\n",
       "      <td>promising</td>\n",
       "    </tr>\n",
       "    <tr>\n",
       "      <th>1</th>\n",
       "      <td>0000b849f77a49e4a4ce2b2a4ca5be3f</td>\n",
       "      <td>118.0</td>\n",
       "      <td>1</td>\n",
       "      <td>18.90</td>\n",
       "      <td>0.0</td>\n",
       "      <td>4.0</td>\n",
       "      <td>1.0</td>\n",
       "      <td>4</td>\n",
       "      <td>1</td>\n",
       "      <td>1</td>\n",
       "      <td>411</td>\n",
       "      <td>promising</td>\n",
       "    </tr>\n",
       "    <tr>\n",
       "      <th>2</th>\n",
       "      <td>0000f46a3911fa3c0805444483337064</td>\n",
       "      <td>541.0</td>\n",
       "      <td>1</td>\n",
       "      <td>69.00</td>\n",
       "      <td>0.0</td>\n",
       "      <td>3.0</td>\n",
       "      <td>8.0</td>\n",
       "      <td>1</td>\n",
       "      <td>2</td>\n",
       "      <td>1</td>\n",
       "      <td>112</td>\n",
       "      <td>hibernating</td>\n",
       "    </tr>\n",
       "    <tr>\n",
       "      <th>3</th>\n",
       "      <td>0000f6ccb0745a6a4b88665a16c9f078</td>\n",
       "      <td>325.0</td>\n",
       "      <td>1</td>\n",
       "      <td>25.99</td>\n",
       "      <td>0.0</td>\n",
       "      <td>4.0</td>\n",
       "      <td>4.0</td>\n",
       "      <td>2</td>\n",
       "      <td>1</td>\n",
       "      <td>1</td>\n",
       "      <td>211</td>\n",
       "      <td>hibernating</td>\n",
       "    </tr>\n",
       "    <tr>\n",
       "      <th>4</th>\n",
       "      <td>0004aac84e0df4da2b147fca70cf8255</td>\n",
       "      <td>292.0</td>\n",
       "      <td>1</td>\n",
       "      <td>180.00</td>\n",
       "      <td>0.0</td>\n",
       "      <td>5.0</td>\n",
       "      <td>6.0</td>\n",
       "      <td>2</td>\n",
       "      <td>4</td>\n",
       "      <td>1</td>\n",
       "      <td>214</td>\n",
       "      <td>hibernating</td>\n",
       "    </tr>\n",
       "  </tbody>\n",
       "</table>\n",
       "</div>"
      ],
      "text/plain": [
       "                 customer_unique_id  recency  frequency  monetary  length  \\\n",
       "0  0000366f3b9a7992bf8c76cfdf3221e2    115.0          1    129.90     0.0   \n",
       "1  0000b849f77a49e4a4ce2b2a4ca5be3f    118.0          1     18.90     0.0   \n",
       "2  0000f46a3911fa3c0805444483337064    541.0          1     69.00     0.0   \n",
       "3  0000f6ccb0745a6a4b88665a16c9f078    325.0          1     25.99     0.0   \n",
       "4  0004aac84e0df4da2b147fca70cf8255    292.0          1    180.00     0.0   \n",
       "\n",
       "   rating  avg_pay_install  r  m  f  rfm      segment  \n",
       "0     5.0              8.0  4  4  1  414    promising  \n",
       "1     4.0              1.0  4  1  1  411    promising  \n",
       "2     3.0              8.0  1  2  1  112  hibernating  \n",
       "3     4.0              4.0  2  1  1  211  hibernating  \n",
       "4     5.0              6.0  2  4  1  214  hibernating  "
      ]
     },
     "execution_count": 23,
     "metadata": {},
     "output_type": "execute_result"
    }
   ],
   "source": [
    "df['segment']=df['r'].map(str) + df['f'].map(str)\n",
    "df['segment']=df['segment'].replace(segt_map, regex=True)\n",
    "df.head()"
   ]
  },
  {
   "cell_type": "code",
   "execution_count": 24,
   "id": "fd3329a4",
   "metadata": {},
   "outputs": [
    {
     "data": {
      "text/plain": [
       "hibernating            31510\n",
       "new customers          16031\n",
       "about to sleep         16002\n",
       "promising              15834\n",
       "at risk                 4905\n",
       "potential loyalists     4057\n",
       "need attention          2059\n",
       "loyal customers         1484\n",
       "can't lose               788\n",
       "champions                726\n",
       "Name: segment, dtype: int64"
      ]
     },
     "execution_count": 24,
     "metadata": {},
     "output_type": "execute_result"
    }
   ],
   "source": [
    "df['segment'].value_counts()"
   ]
  },
  {
   "cell_type": "code",
   "execution_count": 25,
   "id": "4bb1e0d7",
   "metadata": {},
   "outputs": [
    {
     "data": {
      "text/plain": [
       "Text(0.5, 1.0, 'Customer segmentation')"
      ]
     },
     "execution_count": 25,
     "metadata": {},
     "output_type": "execute_result"
    },
    {
     "data": {
      "image/png": "[encoded data removed]",
      "text/plain": [
       "<Figure size 720x360 with 1 Axes>"
      ]
     },
     "metadata": {
      "needs_background": "light"
     },
     "output_type": "display_data"
    }
   ],
   "source": [
    "sns.catplot(data=df,x='segment',kind='count',aspect=2,\n",
    "           order=df['segment'].value_counts().index).set_xticklabels(rotation=30)\n",
    "plt.title('Customer segmentation')"
   ]
  },
  {
   "cell_type": "code",
   "execution_count": 26,
   "id": "64d04b61",
   "metadata": {},
   "outputs": [
    {
     "data": {
      "image/png": "[encoded data removed]",
      "text/plain": [
       "<Figure size 864x720 with 1 Axes>"
      ]
     },
     "metadata": {
      "needs_background": "light"
     },
     "output_type": "display_data"
    }
   ],
   "source": [
    "# count the number of customers in each segment\n",
    "segments_counts = df['segment'].value_counts().sort_values(ascending=True)\n",
    "\n",
    "fig, ax = plt.subplots(figsize=(12,10))\n",
    "\n",
    "bars = ax.barh(range(len(segments_counts)),\n",
    "              segments_counts,\n",
    "              color='silver')\n",
    "ax.set_frame_on(False)\n",
    "ax.tick_params(left=False,\n",
    "               bottom=False,\n",
    "               labelbottom=False)\n",
    "ax.set_yticks(range(len(segments_counts)))\n",
    "ax.set_yticklabels(segments_counts.index)\n",
    "\n",
    "for i, bar in enumerate(bars):\n",
    "        value = bar.get_width()\n",
    "        if segments_counts.index[i] in ['champions', 'loyal customers','potential loyalists']:\n",
    "            bar.set_color('firebrick')\n",
    "        ax.text(value,\n",
    "                bar.get_y() + bar.get_height()/2,\n",
    "                '{:,} ({:}%)'.format(int(value),\n",
    "                                   int(value*100/segments_counts.sum())),\n",
    "                va='center',\n",
    "                ha='left'\n",
    "               )\n"
   ]
  },
  {
   "cell_type": "code",
   "execution_count": 27,
   "id": "43906e8f",
   "metadata": {},
   "outputs": [
    {
     "data": {
      "image/png": "[encoded data removed]",
      "text/plain": [
       "<Figure size 432x288 with 1 Axes>"
      ]
     },
     "metadata": {
      "needs_background": "light"
     },
     "output_type": "display_data"
    }
   ],
   "source": [
    "segments_counts = df['segment'].value_counts().sort_values(ascending=True)\n",
    "\n",
    "fig, ax = plt.subplots()\n",
    "\n",
    "bars = ax.barh(range(len(segments_counts)), segments_counts,  color='silver')\n",
    "\n",
    "\n",
    "for i, bar in enumerate(bars):\n",
    "        value = bar.get_width()\n",
    "        "
   ]
  },
  {
   "cell_type": "code",
   "execution_count": null,
   "id": "9cf30897",
   "metadata": {},
   "outputs": [],
   "source": []
  },
  {
   "cell_type": "code",
   "execution_count": null,
   "id": "9969337f",
   "metadata": {},
   "outputs": [],
   "source": []
  },
  {
   "cell_type": "code",
   "execution_count": null,
   "id": "eb742875",
   "metadata": {},
   "outputs": [],
   "source": []
  },
  {
   "cell_type": "code",
   "execution_count": null,
   "id": "a394adde",
   "metadata": {},
   "outputs": [],
   "source": []
  },
  {
   "cell_type": "code",
   "execution_count": null,
   "id": "03eca00d",
   "metadata": {},
   "outputs": [],
   "source": []
  },
  {
   "cell_type": "code",
   "execution_count": null,
   "id": "5a8cb9dd",
   "metadata": {},
   "outputs": [],
   "source": []
  },
  {
   "cell_type": "code",
   "execution_count": null,
   "id": "148e5875",
   "metadata": {},
   "outputs": [],
   "source": []
  }
 ],
 "metadata": {
  "kernelspec": {
   "display_name": "Python 3 (ipykernel)",
   "language": "python",
   "name": "python3"
  },
  "language_info": {
   "codemirror_mode": {
    "name": "ipython",
    "version": 3
   },
   "file_extension": ".py",
   "mimetype": "text/x-python",
   "name": "python",
   "nbconvert_exporter": "python",
   "pygments_lexer": "ipython3",
   "version": "3.9.7"
  }
 },
 "nbformat": 4,
 "nbformat_minor": 5
}
